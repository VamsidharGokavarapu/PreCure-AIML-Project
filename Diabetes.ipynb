{
  "cells": [
    {
      "cell_type": "code",
      "execution_count": null,
      "metadata": {
        "id": "wbb9bDmvhMmB"
      },
      "outputs": [],
      "source": [
        "import warnings\n",
        "warnings.filterwarnings('ignore')\n",
        "import numpy as np\n",
        "import pandas as pd\n",
        "from sklearn.preprocessing import MinMaxScaler\n",
        "from sklearn.model_selection import train_test_split,cross_val_score\n",
        "from sklearn.linear_model import LogisticRegression\n",
        "from sklearn.metrics import  accuracy_score, f1_score, precision_score,confusion_matrix, recall_score, roc_auc_score\n",
        "from sklearn.ensemble import RandomForestClassifier\n",
        "import matplotlib.pyplot as plt\n",
        "%matplotlib inline\n",
        "import pickle"
      ]
    },
    {
      "cell_type": "code",
      "execution_count": null,
      "metadata": {
        "colab": {
          "base_uri": "https://localhost:8080/",
          "height": 73
        },
        "id": "J4rFz5d2iZmv",
        "outputId": "a050787e-a6c3-428d-8c21-5a024f0bd204"
      },
      "outputs": [
        {
          "output_type": "display_data",
          "data": {
            "text/plain": [
              "<IPython.core.display.HTML object>"
            ],
            "text/html": [
              "\n",
              "     <input type=\"file\" id=\"files-762f0adb-7baa-465f-9a74-fa8d8f022f70\" name=\"files[]\" multiple disabled\n",
              "        style=\"border:none\" />\n",
              "     <output id=\"result-762f0adb-7baa-465f-9a74-fa8d8f022f70\">\n",
              "      Upload widget is only available when the cell has been executed in the\n",
              "      current browser session. Please rerun this cell to enable.\n",
              "      </output>\n",
              "      <script>// Copyright 2017 Google LLC\n",
              "//\n",
              "// Licensed under the Apache License, Version 2.0 (the \"License\");\n",
              "// you may not use this file except in compliance with the License.\n",
              "// You may obtain a copy of the License at\n",
              "//\n",
              "//      http://www.apache.org/licenses/LICENSE-2.0\n",
              "//\n",
              "// Unless required by applicable law or agreed to in writing, software\n",
              "// distributed under the License is distributed on an \"AS IS\" BASIS,\n",
              "// WITHOUT WARRANTIES OR CONDITIONS OF ANY KIND, either express or implied.\n",
              "// See the License for the specific language governing permissions and\n",
              "// limitations under the License.\n",
              "\n",
              "/**\n",
              " * @fileoverview Helpers for google.colab Python module.\n",
              " */\n",
              "(function(scope) {\n",
              "function span(text, styleAttributes = {}) {\n",
              "  const element = document.createElement('span');\n",
              "  element.textContent = text;\n",
              "  for (const key of Object.keys(styleAttributes)) {\n",
              "    element.style[key] = styleAttributes[key];\n",
              "  }\n",
              "  return element;\n",
              "}\n",
              "\n",
              "// Max number of bytes which will be uploaded at a time.\n",
              "const MAX_PAYLOAD_SIZE = 100 * 1024;\n",
              "\n",
              "function _uploadFiles(inputId, outputId) {\n",
              "  const steps = uploadFilesStep(inputId, outputId);\n",
              "  const outputElement = document.getElementById(outputId);\n",
              "  // Cache steps on the outputElement to make it available for the next call\n",
              "  // to uploadFilesContinue from Python.\n",
              "  outputElement.steps = steps;\n",
              "\n",
              "  return _uploadFilesContinue(outputId);\n",
              "}\n",
              "\n",
              "// This is roughly an async generator (not supported in the browser yet),\n",
              "// where there are multiple asynchronous steps and the Python side is going\n",
              "// to poll for completion of each step.\n",
              "// This uses a Promise to block the python side on completion of each step,\n",
              "// then passes the result of the previous step as the input to the next step.\n",
              "function _uploadFilesContinue(outputId) {\n",
              "  const outputElement = document.getElementById(outputId);\n",
              "  const steps = outputElement.steps;\n",
              "\n",
              "  const next = steps.next(outputElement.lastPromiseValue);\n",
              "  return Promise.resolve(next.value.promise).then((value) => {\n",
              "    // Cache the last promise value to make it available to the next\n",
              "    // step of the generator.\n",
              "    outputElement.lastPromiseValue = value;\n",
              "    return next.value.response;\n",
              "  });\n",
              "}\n",
              "\n",
              "/**\n",
              " * Generator function which is called between each async step of the upload\n",
              " * process.\n",
              " * @param {string} inputId Element ID of the input file picker element.\n",
              " * @param {string} outputId Element ID of the output display.\n",
              " * @return {!Iterable<!Object>} Iterable of next steps.\n",
              " */\n",
              "function* uploadFilesStep(inputId, outputId) {\n",
              "  const inputElement = document.getElementById(inputId);\n",
              "  inputElement.disabled = false;\n",
              "\n",
              "  const outputElement = document.getElementById(outputId);\n",
              "  outputElement.innerHTML = '';\n",
              "\n",
              "  const pickedPromise = new Promise((resolve) => {\n",
              "    inputElement.addEventListener('change', (e) => {\n",
              "      resolve(e.target.files);\n",
              "    });\n",
              "  });\n",
              "\n",
              "  const cancel = document.createElement('button');\n",
              "  inputElement.parentElement.appendChild(cancel);\n",
              "  cancel.textContent = 'Cancel upload';\n",
              "  const cancelPromise = new Promise((resolve) => {\n",
              "    cancel.onclick = () => {\n",
              "      resolve(null);\n",
              "    };\n",
              "  });\n",
              "\n",
              "  // Wait for the user to pick the files.\n",
              "  const files = yield {\n",
              "    promise: Promise.race([pickedPromise, cancelPromise]),\n",
              "    response: {\n",
              "      action: 'starting',\n",
              "    }\n",
              "  };\n",
              "\n",
              "  cancel.remove();\n",
              "\n",
              "  // Disable the input element since further picks are not allowed.\n",
              "  inputElement.disabled = true;\n",
              "\n",
              "  if (!files) {\n",
              "    return {\n",
              "      response: {\n",
              "        action: 'complete',\n",
              "      }\n",
              "    };\n",
              "  }\n",
              "\n",
              "  for (const file of files) {\n",
              "    const li = document.createElement('li');\n",
              "    li.append(span(file.name, {fontWeight: 'bold'}));\n",
              "    li.append(span(\n",
              "        `(${file.type || 'n/a'}) - ${file.size} bytes, ` +\n",
              "        `last modified: ${\n",
              "            file.lastModifiedDate ? file.lastModifiedDate.toLocaleDateString() :\n",
              "                                    'n/a'} - `));\n",
              "    const percent = span('0% done');\n",
              "    li.appendChild(percent);\n",
              "\n",
              "    outputElement.appendChild(li);\n",
              "\n",
              "    const fileDataPromise = new Promise((resolve) => {\n",
              "      const reader = new FileReader();\n",
              "      reader.onload = (e) => {\n",
              "        resolve(e.target.result);\n",
              "      };\n",
              "      reader.readAsArrayBuffer(file);\n",
              "    });\n",
              "    // Wait for the data to be ready.\n",
              "    let fileData = yield {\n",
              "      promise: fileDataPromise,\n",
              "      response: {\n",
              "        action: 'continue',\n",
              "      }\n",
              "    };\n",
              "\n",
              "    // Use a chunked sending to avoid message size limits. See b/62115660.\n",
              "    let position = 0;\n",
              "    do {\n",
              "      const length = Math.min(fileData.byteLength - position, MAX_PAYLOAD_SIZE);\n",
              "      const chunk = new Uint8Array(fileData, position, length);\n",
              "      position += length;\n",
              "\n",
              "      const base64 = btoa(String.fromCharCode.apply(null, chunk));\n",
              "      yield {\n",
              "        response: {\n",
              "          action: 'append',\n",
              "          file: file.name,\n",
              "          data: base64,\n",
              "        },\n",
              "      };\n",
              "\n",
              "      let percentDone = fileData.byteLength === 0 ?\n",
              "          100 :\n",
              "          Math.round((position / fileData.byteLength) * 100);\n",
              "      percent.textContent = `${percentDone}% done`;\n",
              "\n",
              "    } while (position < fileData.byteLength);\n",
              "  }\n",
              "\n",
              "  // All done.\n",
              "  yield {\n",
              "    response: {\n",
              "      action: 'complete',\n",
              "    }\n",
              "  };\n",
              "}\n",
              "\n",
              "scope.google = scope.google || {};\n",
              "scope.google.colab = scope.google.colab || {};\n",
              "scope.google.colab._files = {\n",
              "  _uploadFiles,\n",
              "  _uploadFilesContinue,\n",
              "};\n",
              "})(self);\n",
              "</script> "
            ]
          },
          "metadata": {}
        },
        {
          "output_type": "stream",
          "name": "stdout",
          "text": [
            "Saving diabetes_data_upload.csv to diabetes_data_upload (1).csv\n"
          ]
        }
      ],
      "source": [
        "from google.colab import files\n",
        "uploaded = files.upload()"
      ]
    },
    {
      "cell_type": "code",
      "execution_count": null,
      "metadata": {
        "colab": {
          "base_uri": "https://localhost:8080/",
          "height": 206
        },
        "id": "hG90fAY9j06j",
        "outputId": "bb83aacb-70c5-40cb-c00e-d23b758d90de"
      },
      "outputs": [
        {
          "output_type": "execute_result",
          "data": {
            "text/plain": [
              "   Age Gender Polyuria Polydipsia sudden weight loss weakness Polyphagia  \\\n",
              "0   40   Male       No        Yes                 No      Yes         No   \n",
              "1   58   Male       No         No                 No      Yes         No   \n",
              "2   41   Male      Yes         No                 No      Yes        Yes   \n",
              "3   45   Male       No         No                Yes      Yes        Yes   \n",
              "4   60   Male      Yes        Yes                Yes      Yes        Yes   \n",
              "\n",
              "  Genital thrush visual blurring Itching Irritability delayed healing  \\\n",
              "0             No              No     Yes           No             Yes   \n",
              "1             No             Yes      No           No              No   \n",
              "2             No              No     Yes           No             Yes   \n",
              "3            Yes              No     Yes           No             Yes   \n",
              "4             No             Yes     Yes          Yes             Yes   \n",
              "\n",
              "  partial paresis muscle stiffness Alopecia Obesity     class  \n",
              "0              No              Yes      Yes     Yes  Positive  \n",
              "1             Yes               No      Yes      No  Positive  \n",
              "2              No              Yes      Yes      No  Positive  \n",
              "3              No               No       No      No  Positive  \n",
              "4             Yes              Yes      Yes     Yes  Positive  "
            ],
            "text/html": [
              "\n",
              "  <div id=\"df-272b3f70-48af-4648-9287-d9f88d452462\">\n",
              "    <div class=\"colab-df-container\">\n",
              "      <div>\n",
              "<style scoped>\n",
              "    .dataframe tbody tr th:only-of-type {\n",
              "        vertical-align: middle;\n",
              "    }\n",
              "\n",
              "    .dataframe tbody tr th {\n",
              "        vertical-align: top;\n",
              "    }\n",
              "\n",
              "    .dataframe thead th {\n",
              "        text-align: right;\n",
              "    }\n",
              "</style>\n",
              "<table border=\"1\" class=\"dataframe\">\n",
              "  <thead>\n",
              "    <tr style=\"text-align: right;\">\n",
              "      <th></th>\n",
              "      <th>Age</th>\n",
              "      <th>Gender</th>\n",
              "      <th>Polyuria</th>\n",
              "      <th>Polydipsia</th>\n",
              "      <th>sudden weight loss</th>\n",
              "      <th>weakness</th>\n",
              "      <th>Polyphagia</th>\n",
              "      <th>Genital thrush</th>\n",
              "      <th>visual blurring</th>\n",
              "      <th>Itching</th>\n",
              "      <th>Irritability</th>\n",
              "      <th>delayed healing</th>\n",
              "      <th>partial paresis</th>\n",
              "      <th>muscle stiffness</th>\n",
              "      <th>Alopecia</th>\n",
              "      <th>Obesity</th>\n",
              "      <th>class</th>\n",
              "    </tr>\n",
              "  </thead>\n",
              "  <tbody>\n",
              "    <tr>\n",
              "      <th>0</th>\n",
              "      <td>40</td>\n",
              "      <td>Male</td>\n",
              "      <td>No</td>\n",
              "      <td>Yes</td>\n",
              "      <td>No</td>\n",
              "      <td>Yes</td>\n",
              "      <td>No</td>\n",
              "      <td>No</td>\n",
              "      <td>No</td>\n",
              "      <td>Yes</td>\n",
              "      <td>No</td>\n",
              "      <td>Yes</td>\n",
              "      <td>No</td>\n",
              "      <td>Yes</td>\n",
              "      <td>Yes</td>\n",
              "      <td>Yes</td>\n",
              "      <td>Positive</td>\n",
              "    </tr>\n",
              "    <tr>\n",
              "      <th>1</th>\n",
              "      <td>58</td>\n",
              "      <td>Male</td>\n",
              "      <td>No</td>\n",
              "      <td>No</td>\n",
              "      <td>No</td>\n",
              "      <td>Yes</td>\n",
              "      <td>No</td>\n",
              "      <td>No</td>\n",
              "      <td>Yes</td>\n",
              "      <td>No</td>\n",
              "      <td>No</td>\n",
              "      <td>No</td>\n",
              "      <td>Yes</td>\n",
              "      <td>No</td>\n",
              "      <td>Yes</td>\n",
              "      <td>No</td>\n",
              "      <td>Positive</td>\n",
              "    </tr>\n",
              "    <tr>\n",
              "      <th>2</th>\n",
              "      <td>41</td>\n",
              "      <td>Male</td>\n",
              "      <td>Yes</td>\n",
              "      <td>No</td>\n",
              "      <td>No</td>\n",
              "      <td>Yes</td>\n",
              "      <td>Yes</td>\n",
              "      <td>No</td>\n",
              "      <td>No</td>\n",
              "      <td>Yes</td>\n",
              "      <td>No</td>\n",
              "      <td>Yes</td>\n",
              "      <td>No</td>\n",
              "      <td>Yes</td>\n",
              "      <td>Yes</td>\n",
              "      <td>No</td>\n",
              "      <td>Positive</td>\n",
              "    </tr>\n",
              "    <tr>\n",
              "      <th>3</th>\n",
              "      <td>45</td>\n",
              "      <td>Male</td>\n",
              "      <td>No</td>\n",
              "      <td>No</td>\n",
              "      <td>Yes</td>\n",
              "      <td>Yes</td>\n",
              "      <td>Yes</td>\n",
              "      <td>Yes</td>\n",
              "      <td>No</td>\n",
              "      <td>Yes</td>\n",
              "      <td>No</td>\n",
              "      <td>Yes</td>\n",
              "      <td>No</td>\n",
              "      <td>No</td>\n",
              "      <td>No</td>\n",
              "      <td>No</td>\n",
              "      <td>Positive</td>\n",
              "    </tr>\n",
              "    <tr>\n",
              "      <th>4</th>\n",
              "      <td>60</td>\n",
              "      <td>Male</td>\n",
              "      <td>Yes</td>\n",
              "      <td>Yes</td>\n",
              "      <td>Yes</td>\n",
              "      <td>Yes</td>\n",
              "      <td>Yes</td>\n",
              "      <td>No</td>\n",
              "      <td>Yes</td>\n",
              "      <td>Yes</td>\n",
              "      <td>Yes</td>\n",
              "      <td>Yes</td>\n",
              "      <td>Yes</td>\n",
              "      <td>Yes</td>\n",
              "      <td>Yes</td>\n",
              "      <td>Yes</td>\n",
              "      <td>Positive</td>\n",
              "    </tr>\n",
              "  </tbody>\n",
              "</table>\n",
              "</div>\n",
              "      <button class=\"colab-df-convert\" onclick=\"convertToInteractive('df-272b3f70-48af-4648-9287-d9f88d452462')\"\n",
              "              title=\"Convert this dataframe to an interactive table.\"\n",
              "              style=\"display:none;\">\n",
              "        \n",
              "  <svg xmlns=\"http://www.w3.org/2000/svg\" height=\"24px\"viewBox=\"0 0 24 24\"\n",
              "       width=\"24px\">\n",
              "    <path d=\"M0 0h24v24H0V0z\" fill=\"none\"/>\n",
              "    <path d=\"M18.56 5.44l.94 2.06.94-2.06 2.06-.94-2.06-.94-.94-2.06-.94 2.06-2.06.94zm-11 1L8.5 8.5l.94-2.06 2.06-.94-2.06-.94L8.5 2.5l-.94 2.06-2.06.94zm10 10l.94 2.06.94-2.06 2.06-.94-2.06-.94-.94-2.06-.94 2.06-2.06.94z\"/><path d=\"M17.41 7.96l-1.37-1.37c-.4-.4-.92-.59-1.43-.59-.52 0-1.04.2-1.43.59L10.3 9.45l-7.72 7.72c-.78.78-.78 2.05 0 2.83L4 21.41c.39.39.9.59 1.41.59.51 0 1.02-.2 1.41-.59l7.78-7.78 2.81-2.81c.8-.78.8-2.07 0-2.86zM5.41 20L4 18.59l7.72-7.72 1.47 1.35L5.41 20z\"/>\n",
              "  </svg>\n",
              "      </button>\n",
              "      \n",
              "  <style>\n",
              "    .colab-df-container {\n",
              "      display:flex;\n",
              "      flex-wrap:wrap;\n",
              "      gap: 12px;\n",
              "    }\n",
              "\n",
              "    .colab-df-convert {\n",
              "      background-color: #E8F0FE;\n",
              "      border: none;\n",
              "      border-radius: 50%;\n",
              "      cursor: pointer;\n",
              "      display: none;\n",
              "      fill: #1967D2;\n",
              "      height: 32px;\n",
              "      padding: 0 0 0 0;\n",
              "      width: 32px;\n",
              "    }\n",
              "\n",
              "    .colab-df-convert:hover {\n",
              "      background-color: #E2EBFA;\n",
              "      box-shadow: 0px 1px 2px rgba(60, 64, 67, 0.3), 0px 1px 3px 1px rgba(60, 64, 67, 0.15);\n",
              "      fill: #174EA6;\n",
              "    }\n",
              "\n",
              "    [theme=dark] .colab-df-convert {\n",
              "      background-color: #3B4455;\n",
              "      fill: #D2E3FC;\n",
              "    }\n",
              "\n",
              "    [theme=dark] .colab-df-convert:hover {\n",
              "      background-color: #434B5C;\n",
              "      box-shadow: 0px 1px 3px 1px rgba(0, 0, 0, 0.15);\n",
              "      filter: drop-shadow(0px 1px 2px rgba(0, 0, 0, 0.3));\n",
              "      fill: #FFFFFF;\n",
              "    }\n",
              "  </style>\n",
              "\n",
              "      <script>\n",
              "        const buttonEl =\n",
              "          document.querySelector('#df-272b3f70-48af-4648-9287-d9f88d452462 button.colab-df-convert');\n",
              "        buttonEl.style.display =\n",
              "          google.colab.kernel.accessAllowed ? 'block' : 'none';\n",
              "\n",
              "        async function convertToInteractive(key) {\n",
              "          const element = document.querySelector('#df-272b3f70-48af-4648-9287-d9f88d452462');\n",
              "          const dataTable =\n",
              "            await google.colab.kernel.invokeFunction('convertToInteractive',\n",
              "                                                     [key], {});\n",
              "          if (!dataTable) return;\n",
              "\n",
              "          const docLinkHtml = 'Like what you see? Visit the ' +\n",
              "            '<a target=\"_blank\" href=https://colab.research.google.com/notebooks/data_table.ipynb>data table notebook</a>'\n",
              "            + ' to learn more about interactive tables.';\n",
              "          element.innerHTML = '';\n",
              "          dataTable['output_type'] = 'display_data';\n",
              "          await google.colab.output.renderOutput(dataTable, element);\n",
              "          const docLink = document.createElement('div');\n",
              "          docLink.innerHTML = docLinkHtml;\n",
              "          element.appendChild(docLink);\n",
              "        }\n",
              "      </script>\n",
              "    </div>\n",
              "  </div>\n",
              "  "
            ]
          },
          "metadata": {},
          "execution_count": 9
        }
      ],
      "source": [
        "import io\n",
        "df = pd.read_csv('diabetes_data_upload.csv')\n",
        "df.head()"
      ]
    },
    {
      "cell_type": "code",
      "execution_count": null,
      "metadata": {
        "colab": {
          "base_uri": "https://localhost:8080/"
        },
        "id": "8-zcQdMlkU5T",
        "outputId": "0f11f826-cda3-48e9-eb1e-997ecdeb86ee"
      },
      "outputs": [
        {
          "output_type": "execute_result",
          "data": {
            "text/plain": [
              "Age                   0\n",
              "Gender                0\n",
              "Polyuria              0\n",
              "Polydipsia            0\n",
              "sudden weight loss    0\n",
              "weakness              0\n",
              "Polyphagia            0\n",
              "Genital thrush        0\n",
              "visual blurring       0\n",
              "Itching               0\n",
              "Irritability          0\n",
              "delayed healing       0\n",
              "partial paresis       0\n",
              "muscle stiffness      0\n",
              "Alopecia              0\n",
              "Obesity               0\n",
              "class                 0\n",
              "dtype: int64"
            ]
          },
          "metadata": {},
          "execution_count": 10
        }
      ],
      "source": [
        "df.isna().sum()"
      ]
    },
    {
      "cell_type": "code",
      "execution_count": null,
      "metadata": {
        "colab": {
          "base_uri": "https://localhost:8080/"
        },
        "id": "a_JGhjKkkVc9",
        "outputId": "bf99f6d3-2dc6-43cb-c3dd-05c4ad2d57b2"
      },
      "outputs": [
        {
          "output_type": "stream",
          "name": "stdout",
          "text": [
            "<class 'pandas.core.frame.DataFrame'>\n",
            "RangeIndex: 520 entries, 0 to 519\n",
            "Data columns (total 17 columns):\n",
            " #   Column              Non-Null Count  Dtype \n",
            "---  ------              --------------  ----- \n",
            " 0   Age                 520 non-null    int64 \n",
            " 1   Gender              520 non-null    object\n",
            " 2   Polyuria            520 non-null    object\n",
            " 3   Polydipsia          520 non-null    object\n",
            " 4   sudden weight loss  520 non-null    object\n",
            " 5   weakness            520 non-null    object\n",
            " 6   Polyphagia          520 non-null    object\n",
            " 7   Genital thrush      520 non-null    object\n",
            " 8   visual blurring     520 non-null    object\n",
            " 9   Itching             520 non-null    object\n",
            " 10  Irritability        520 non-null    object\n",
            " 11  delayed healing     520 non-null    object\n",
            " 12  partial paresis     520 non-null    object\n",
            " 13  muscle stiffness    520 non-null    object\n",
            " 14  Alopecia            520 non-null    object\n",
            " 15  Obesity             520 non-null    object\n",
            " 16  class               520 non-null    object\n",
            "dtypes: int64(1), object(16)\n",
            "memory usage: 69.2+ KB\n"
          ]
        }
      ],
      "source": [
        "df.info()"
      ]
    },
    {
      "cell_type": "code",
      "execution_count": null,
      "metadata": {
        "colab": {
          "base_uri": "https://localhost:8080/",
          "height": 296
        },
        "id": "oFZ1lkCKkV99",
        "outputId": "3390da4f-a41e-48be-dd47-b9566f649364"
      },
      "outputs": [
        {
          "output_type": "execute_result",
          "data": {
            "text/plain": [
              "<matplotlib.axes._subplots.AxesSubplot at 0x7f92a66b42d0>"
            ]
          },
          "metadata": {},
          "execution_count": 12
        },
        {
          "output_type": "display_data",
          "data": {
            "text/plain": [
              "<Figure size 432x288 with 1 Axes>"
            ],
            "image/png": "[encoded data removed]"
          },
          "metadata": {
            "needs_background": "light"
          }
        }
      ],
      "source": [
        "import seaborn as sns\n",
        "sns.countplot(df['class'],data=df)"
      ]
    },
    {
      "cell_type": "code",
      "execution_count": null,
      "metadata": {
        "colab": {
          "base_uri": "https://localhost:8080/",
          "height": 444
        },
        "id": "OBEMXVz8lOEg",
        "outputId": "498b01d9-a677-49f8-c5ca-5bd08eb8421b"
      },
      "outputs": [
        {
          "output_type": "display_data",
          "data": {
            "text/plain": [
              "<Figure size 1008x504 with 2 Axes>"
            ],
            "image/png": "[encoded data removed]"
          },
          "metadata": {
            "needs_background": "light"
          }
        }
      ],
      "source": [
        "# plotting to create pie chart and bar plot as subplots\n",
        "plt.figure(figsize=(14,7))\n",
        "plt.subplot(121)\n",
        "df[\"class\"].value_counts().plot.pie(autopct = \"%1.0f%%\",colors = sns.color_palette(\"prism\",7),startangle = 60,labels=[\"Positive\",\"Negative\"],\n",
        "wedgeprops={\"linewidth\":2,\"edgecolor\":\"k\"},explode=[.1,0],shadow =True)\n",
        "plt.title(\"Distribution of Target  variable\")\n",
        "\n",
        "plt.subplot(122)\n",
        "ax = df[\"class\"].value_counts().plot(kind=\"barh\")\n",
        "\n",
        "for i,j in enumerate(df[\"class\"].value_counts().values):\n",
        "    ax.text(.7,i,j,weight = \"bold\",fontsize=20)\n",
        "\n",
        "plt.title(\"Count of Traget variable\")\n",
        "plt.show()"
      ]
    },
    {
      "cell_type": "code",
      "execution_count": null,
      "metadata": {
        "colab": {
          "base_uri": "https://localhost:8080/",
          "height": 296
        },
        "id": "_LIqdXt3lTcS",
        "outputId": "273605e0-c078-4e83-b9e2-4e3be4475f96"
      },
      "outputs": [
        {
          "output_type": "execute_result",
          "data": {
            "text/plain": [
              "<matplotlib.axes._subplots.AxesSubplot at 0x7f92a4e08150>"
            ]
          },
          "metadata": {},
          "execution_count": 14
        },
        {
          "output_type": "display_data",
          "data": {
            "text/plain": [
              "<Figure size 432x288 with 1 Axes>"
            ],
            "image/png": "[encoded data removed]"
          },
          "metadata": {
            "needs_background": "light"
          }
        }
      ],
      "source": [
        "import seaborn as sns\n",
        "sns.countplot(df['Gender'],hue=df['class'], data=df)"
      ]
    },
    {
      "cell_type": "code",
      "execution_count": null,
      "metadata": {
        "colab": {
          "base_uri": "https://localhost:8080/",
          "height": 143
        },
        "id": "vYgXZwQXlbQF",
        "outputId": "19cbd772-f6a1-475a-88bb-be7d62efd957"
      },
      "outputs": [
        {
          "output_type": "execute_result",
          "data": {
            "text/plain": [
              "<pandas.io.formats.style.Styler at 0x7f92a486cf50>"
            ],
            "text/html": [
              "<style type=\"text/css\">\n",
              "#T_26d50_row0_col0, #T_26d50_row1_col1 {\n",
              "  background-color: #ebf3eb;\n",
              "  color: #000000;\n",
              "}\n",
              "#T_26d50_row0_col1, #T_26d50_row1_col0 {\n",
              "  background-color: #008000;\n",
              "  color: #f1f1f1;\n",
              "}\n",
              "</style>\n",
              "<table id=\"T_26d50_\" class=\"dataframe\">\n",
              "  <thead>\n",
              "    <tr>\n",
              "      <th class=\"index_name level0\" >class</th>\n",
              "      <th class=\"col_heading level0 col0\" >Negative</th>\n",
              "      <th class=\"col_heading level0 col1\" >Positive</th>\n",
              "    </tr>\n",
              "    <tr>\n",
              "      <th class=\"index_name level0\" >Gender</th>\n",
              "      <th class=\"blank col0\" >&nbsp;</th>\n",
              "      <th class=\"blank col1\" >&nbsp;</th>\n",
              "    </tr>\n",
              "  </thead>\n",
              "  <tbody>\n",
              "    <tr>\n",
              "      <th id=\"T_26d50_level0_row0\" class=\"row_heading level0 row0\" >Female</th>\n",
              "      <td id=\"T_26d50_row0_col0\" class=\"data row0 col0\" >9.500000</td>\n",
              "      <td id=\"T_26d50_row0_col1\" class=\"data row0 col1\" >54.060000</td>\n",
              "    </tr>\n",
              "    <tr>\n",
              "      <th id=\"T_26d50_level0_row1\" class=\"row_heading level0 row1\" >Male</th>\n",
              "      <td id=\"T_26d50_row1_col0\" class=\"data row1 col0\" >90.500000</td>\n",
              "      <td id=\"T_26d50_row1_col1\" class=\"data row1 col1\" >45.940000</td>\n",
              "    </tr>\n",
              "  </tbody>\n",
              "</table>\n"
            ]
          },
          "metadata": {},
          "execution_count": 15
        }
      ],
      "source": [
        "plot_criteria= ['Gender', 'class']\n",
        "cm = sns.light_palette(\"green\", as_cmap=True)\n",
        "(round(pd.crosstab(df[plot_criteria[0]], df[plot_criteria[1]], normalize='columns') * 100,2)).style.background_gradient(cmap = cm)"
      ]
    },
    {
      "cell_type": "markdown",
      "metadata": {
        "id": "yG0uJvF_lgUs"
      },
      "source": [
        "**Distribution of Polyuria**\n"
      ]
    },
    {
      "cell_type": "code",
      "execution_count": null,
      "metadata": {
        "colab": {
          "base_uri": "https://localhost:8080/",
          "height": 143
        },
        "id": "oK2nW-nXmxrg",
        "outputId": "b05c87f9-716e-4dd2-9f17-2ebde4e8cb7e"
      },
      "outputs": [
        {
          "output_type": "execute_result",
          "data": {
            "text/plain": [
              "<pandas.io.formats.style.Styler at 0x7f92a4469710>"
            ],
            "text/html": [
              "<style type=\"text/css\">\n",
              "#T_b500e_row0_col0, #T_b500e_row1_col1 {\n",
              "  background-color: #008000;\n",
              "  color: #f1f1f1;\n",
              "}\n",
              "#T_b500e_row0_col1, #T_b500e_row1_col0 {\n",
              "  background-color: #ebf3eb;\n",
              "  color: #000000;\n",
              "}\n",
              "</style>\n",
              "<table id=\"T_b500e_\" class=\"dataframe\">\n",
              "  <thead>\n",
              "    <tr>\n",
              "      <th class=\"index_name level0\" >class</th>\n",
              "      <th class=\"col_heading level0 col0\" >Negative</th>\n",
              "      <th class=\"col_heading level0 col1\" >Positive</th>\n",
              "    </tr>\n",
              "    <tr>\n",
              "      <th class=\"index_name level0\" >Polyuria</th>\n",
              "      <th class=\"blank col0\" >&nbsp;</th>\n",
              "      <th class=\"blank col1\" >&nbsp;</th>\n",
              "    </tr>\n",
              "  </thead>\n",
              "  <tbody>\n",
              "    <tr>\n",
              "      <th id=\"T_b500e_level0_row0\" class=\"row_heading level0 row0\" >No</th>\n",
              "      <td id=\"T_b500e_row0_col0\" class=\"data row0 col0\" >92.500000</td>\n",
              "      <td id=\"T_b500e_row0_col1\" class=\"data row0 col1\" >24.060000</td>\n",
              "    </tr>\n",
              "    <tr>\n",
              "      <th id=\"T_b500e_level0_row1\" class=\"row_heading level0 row1\" >Yes</th>\n",
              "      <td id=\"T_b500e_row1_col0\" class=\"data row1 col0\" >7.500000</td>\n",
              "      <td id=\"T_b500e_row1_col1\" class=\"data row1 col1\" >75.940000</td>\n",
              "    </tr>\n",
              "  </tbody>\n",
              "</table>\n"
            ]
          },
          "metadata": {},
          "execution_count": 16
        }
      ],
      "source": [
        "plot_criteria= ['Polyuria', 'class']\n",
        "cm = sns.light_palette(\"green\", as_cmap=True)\n",
        "(round(pd.crosstab(df[plot_criteria[0]], df[plot_criteria[1]], normalize='columns') * 100,2)).style.background_gradient(cmap = cm)"
      ]
    },
    {
      "cell_type": "markdown",
      "metadata": {
        "id": "CBLPox9gm3pH"
      },
      "source": [
        "# **Distribution of Polydisipia**"
      ]
    },
    {
      "cell_type": "code",
      "execution_count": null,
      "metadata": {
        "colab": {
          "base_uri": "https://localhost:8080/",
          "height": 143
        },
        "id": "eKy1WOcxnlii",
        "outputId": "66a04af6-f9b7-4990-e90e-8698c9b7de46"
      },
      "outputs": [
        {
          "output_type": "execute_result",
          "data": {
            "text/plain": [
              "<pandas.io.formats.style.Styler at 0x7f92a47dfcd0>"
            ],
            "text/html": [
              "<style type=\"text/css\">\n",
              "#T_6efba_row0_col0, #T_6efba_row1_col1 {\n",
              "  background-color: #008000;\n",
              "  color: #f1f1f1;\n",
              "}\n",
              "#T_6efba_row0_col1, #T_6efba_row1_col0 {\n",
              "  background-color: #ebf3eb;\n",
              "  color: #000000;\n",
              "}\n",
              "</style>\n",
              "<table id=\"T_6efba_\" class=\"dataframe\">\n",
              "  <thead>\n",
              "    <tr>\n",
              "      <th class=\"index_name level0\" >class</th>\n",
              "      <th class=\"col_heading level0 col0\" >Negative</th>\n",
              "      <th class=\"col_heading level0 col1\" >Positive</th>\n",
              "    </tr>\n",
              "    <tr>\n",
              "      <th class=\"index_name level0\" >Polydipsia</th>\n",
              "      <th class=\"blank col0\" >&nbsp;</th>\n",
              "      <th class=\"blank col1\" >&nbsp;</th>\n",
              "    </tr>\n",
              "  </thead>\n",
              "  <tbody>\n",
              "    <tr>\n",
              "      <th id=\"T_6efba_level0_row0\" class=\"row_heading level0 row0\" >No</th>\n",
              "      <td id=\"T_6efba_row0_col0\" class=\"data row0 col0\" >96.000000</td>\n",
              "      <td id=\"T_6efba_row0_col1\" class=\"data row0 col1\" >29.690000</td>\n",
              "    </tr>\n",
              "    <tr>\n",
              "      <th id=\"T_6efba_level0_row1\" class=\"row_heading level0 row1\" >Yes</th>\n",
              "      <td id=\"T_6efba_row1_col0\" class=\"data row1 col0\" >4.000000</td>\n",
              "      <td id=\"T_6efba_row1_col1\" class=\"data row1 col1\" >70.310000</td>\n",
              "    </tr>\n",
              "  </tbody>\n",
              "</table>\n"
            ]
          },
          "metadata": {},
          "execution_count": 17
        }
      ],
      "source": [
        "plot_criteria= ['Polydipsia', 'class']\n",
        "cm = sns.light_palette(\"green\", as_cmap=True)\n",
        "(round(pd.crosstab(df[plot_criteria[0]], df[plot_criteria[1]], normalize='columns') * 100,2)).style.background_gradient(cmap = cm)"
      ]
    },
    {
      "cell_type": "markdown",
      "metadata": {
        "id": "WgHRmjSknwsw"
      },
      "source": [
        "# **Distribution of sudden weight loss**"
      ]
    },
    {
      "cell_type": "code",
      "execution_count": null,
      "metadata": {
        "colab": {
          "base_uri": "https://localhost:8080/",
          "height": 143
        },
        "id": "42Kwo-GEn7h-",
        "outputId": "6b4402eb-2b01-4f14-f14b-bd509c428a84"
      },
      "outputs": [
        {
          "output_type": "execute_result",
          "data": {
            "text/plain": [
              "<pandas.io.formats.style.Styler at 0x7f92a4461290>"
            ],
            "text/html": [
              "<style type=\"text/css\">\n",
              "#T_2e800_row0_col0, #T_2e800_row1_col1 {\n",
              "  background-color: #008000;\n",
              "  color: #f1f1f1;\n",
              "}\n",
              "#T_2e800_row0_col1, #T_2e800_row1_col0 {\n",
              "  background-color: #ebf3eb;\n",
              "  color: #000000;\n",
              "}\n",
              "</style>\n",
              "<table id=\"T_2e800_\" class=\"dataframe\">\n",
              "  <thead>\n",
              "    <tr>\n",
              "      <th class=\"index_name level0\" >class</th>\n",
              "      <th class=\"col_heading level0 col0\" >Negative</th>\n",
              "      <th class=\"col_heading level0 col1\" >Positive</th>\n",
              "    </tr>\n",
              "    <tr>\n",
              "      <th class=\"index_name level0\" >sudden weight loss</th>\n",
              "      <th class=\"blank col0\" >&nbsp;</th>\n",
              "      <th class=\"blank col1\" >&nbsp;</th>\n",
              "    </tr>\n",
              "  </thead>\n",
              "  <tbody>\n",
              "    <tr>\n",
              "      <th id=\"T_2e800_level0_row0\" class=\"row_heading level0 row0\" >No</th>\n",
              "      <td id=\"T_2e800_row0_col0\" class=\"data row0 col0\" >85.500000</td>\n",
              "      <td id=\"T_2e800_row0_col1\" class=\"data row0 col1\" >41.250000</td>\n",
              "    </tr>\n",
              "    <tr>\n",
              "      <th id=\"T_2e800_level0_row1\" class=\"row_heading level0 row1\" >Yes</th>\n",
              "      <td id=\"T_2e800_row1_col0\" class=\"data row1 col0\" >14.500000</td>\n",
              "      <td id=\"T_2e800_row1_col1\" class=\"data row1 col1\" >58.750000</td>\n",
              "    </tr>\n",
              "  </tbody>\n",
              "</table>\n"
            ]
          },
          "metadata": {},
          "execution_count": 18
        }
      ],
      "source": [
        "plot_criteria= ['sudden weight loss', 'class']\n",
        "cm = sns.light_palette(\"green\", as_cmap=True)\n",
        "(round(pd.crosstab(df[plot_criteria[0]], df[plot_criteria[1]], normalize='columns') * 100,2)).style.background_gradient(cmap = cm)"
      ]
    },
    {
      "cell_type": "markdown",
      "metadata": {
        "id": "Ed54mU75oJW7"
      },
      "source": [
        "# **`Distribution of weakness`**"
      ]
    },
    {
      "cell_type": "code",
      "execution_count": null,
      "metadata": {
        "colab": {
          "base_uri": "https://localhost:8080/",
          "height": 143
        },
        "id": "hGjZd11ZoCfl",
        "outputId": "920054b5-d77e-4e42-8625-474a362276b7"
      },
      "outputs": [
        {
          "output_type": "execute_result",
          "data": {
            "text/plain": [
              "<pandas.io.formats.style.Styler at 0x7f92a47d7c50>"
            ],
            "text/html": [
              "<style type=\"text/css\">\n",
              "#T_8b3dd_row0_col0, #T_8b3dd_row1_col1 {\n",
              "  background-color: #008000;\n",
              "  color: #f1f1f1;\n",
              "}\n",
              "#T_8b3dd_row0_col1, #T_8b3dd_row1_col0 {\n",
              "  background-color: #ebf3eb;\n",
              "  color: #000000;\n",
              "}\n",
              "</style>\n",
              "<table id=\"T_8b3dd_\" class=\"dataframe\">\n",
              "  <thead>\n",
              "    <tr>\n",
              "      <th class=\"index_name level0\" >class</th>\n",
              "      <th class=\"col_heading level0 col0\" >Negative</th>\n",
              "      <th class=\"col_heading level0 col1\" >Positive</th>\n",
              "    </tr>\n",
              "    <tr>\n",
              "      <th class=\"index_name level0\" >weakness</th>\n",
              "      <th class=\"blank col0\" >&nbsp;</th>\n",
              "      <th class=\"blank col1\" >&nbsp;</th>\n",
              "    </tr>\n",
              "  </thead>\n",
              "  <tbody>\n",
              "    <tr>\n",
              "      <th id=\"T_8b3dd_level0_row0\" class=\"row_heading level0 row0\" >No</th>\n",
              "      <td id=\"T_8b3dd_row0_col0\" class=\"data row0 col0\" >56.500000</td>\n",
              "      <td id=\"T_8b3dd_row0_col1\" class=\"data row0 col1\" >31.870000</td>\n",
              "    </tr>\n",
              "    <tr>\n",
              "      <th id=\"T_8b3dd_level0_row1\" class=\"row_heading level0 row1\" >Yes</th>\n",
              "      <td id=\"T_8b3dd_row1_col0\" class=\"data row1 col0\" >43.500000</td>\n",
              "      <td id=\"T_8b3dd_row1_col1\" class=\"data row1 col1\" >68.120000</td>\n",
              "    </tr>\n",
              "  </tbody>\n",
              "</table>\n"
            ]
          },
          "metadata": {},
          "execution_count": 19
        }
      ],
      "source": [
        "plot_criteria= ['weakness', 'class']\n",
        "cm = sns.light_palette(\"green\", as_cmap=True)\n",
        "(round(pd.crosstab(df[plot_criteria[0]], df[plot_criteria[1]], normalize='columns') * 100,2)).style.background_gradient(cmap = cm)"
      ]
    },
    {
      "cell_type": "markdown",
      "metadata": {
        "id": "3xVcb8bgoS3n"
      },
      "source": [
        "# Distribution of Polyphagia"
      ]
    },
    {
      "cell_type": "code",
      "execution_count": null,
      "metadata": {
        "colab": {
          "base_uri": "https://localhost:8080/",
          "height": 143
        },
        "id": "cUobA6dsomuM",
        "outputId": "585d67d7-52cd-4012-8406-6cd6ad58437c"
      },
      "outputs": [
        {
          "output_type": "execute_result",
          "data": {
            "text/plain": [
              "<pandas.io.formats.style.Styler at 0x7f92a44668d0>"
            ],
            "text/html": [
              "<style type=\"text/css\">\n",
              "#T_9ea9c_row0_col0, #T_9ea9c_row1_col1 {\n",
              "  background-color: #008000;\n",
              "  color: #f1f1f1;\n",
              "}\n",
              "#T_9ea9c_row0_col1, #T_9ea9c_row1_col0 {\n",
              "  background-color: #ebf3eb;\n",
              "  color: #000000;\n",
              "}\n",
              "</style>\n",
              "<table id=\"T_9ea9c_\" class=\"dataframe\">\n",
              "  <thead>\n",
              "    <tr>\n",
              "      <th class=\"index_name level0\" >class</th>\n",
              "      <th class=\"col_heading level0 col0\" >Negative</th>\n",
              "      <th class=\"col_heading level0 col1\" >Positive</th>\n",
              "    </tr>\n",
              "    <tr>\n",
              "      <th class=\"index_name level0\" >Polyphagia</th>\n",
              "      <th class=\"blank col0\" >&nbsp;</th>\n",
              "      <th class=\"blank col1\" >&nbsp;</th>\n",
              "    </tr>\n",
              "  </thead>\n",
              "  <tbody>\n",
              "    <tr>\n",
              "      <th id=\"T_9ea9c_level0_row0\" class=\"row_heading level0 row0\" >No</th>\n",
              "      <td id=\"T_9ea9c_row0_col0\" class=\"data row0 col0\" >76.000000</td>\n",
              "      <td id=\"T_9ea9c_row0_col1\" class=\"data row0 col1\" >40.940000</td>\n",
              "    </tr>\n",
              "    <tr>\n",
              "      <th id=\"T_9ea9c_level0_row1\" class=\"row_heading level0 row1\" >Yes</th>\n",
              "      <td id=\"T_9ea9c_row1_col0\" class=\"data row1 col0\" >24.000000</td>\n",
              "      <td id=\"T_9ea9c_row1_col1\" class=\"data row1 col1\" >59.060000</td>\n",
              "    </tr>\n",
              "  </tbody>\n",
              "</table>\n"
            ]
          },
          "metadata": {},
          "execution_count": 20
        }
      ],
      "source": [
        "plot_criteria= ['Polyphagia', 'class']\n",
        "cm = sns.light_palette(\"green\", as_cmap=True)\n",
        "(round(pd.crosstab(df[plot_criteria[0]], df[plot_criteria[1]], normalize='columns') * 100,2)).style.background_gradient(cmap = cm)"
      ]
    },
    {
      "cell_type": "markdown",
      "metadata": {
        "id": "HlypPOeboyJD"
      },
      "source": [
        "# Distribution of Visual Blurring"
      ]
    },
    {
      "cell_type": "code",
      "execution_count": null,
      "metadata": {
        "colab": {
          "base_uri": "https://localhost:8080/",
          "height": 143
        },
        "id": "jZeHc3Tqo4tR",
        "outputId": "45b9c320-8492-458d-ba2d-361085a4d6e4"
      },
      "outputs": [
        {
          "output_type": "execute_result",
          "data": {
            "text/plain": [
              "<pandas.io.formats.style.Styler at 0x7f92a4456ed0>"
            ],
            "text/html": [
              "<style type=\"text/css\">\n",
              "#T_684af_row0_col0, #T_684af_row1_col1 {\n",
              "  background-color: #008000;\n",
              "  color: #f1f1f1;\n",
              "}\n",
              "#T_684af_row0_col1, #T_684af_row1_col0 {\n",
              "  background-color: #ebf3eb;\n",
              "  color: #000000;\n",
              "}\n",
              "</style>\n",
              "<table id=\"T_684af_\" class=\"dataframe\">\n",
              "  <thead>\n",
              "    <tr>\n",
              "      <th class=\"index_name level0\" >class</th>\n",
              "      <th class=\"col_heading level0 col0\" >Negative</th>\n",
              "      <th class=\"col_heading level0 col1\" >Positive</th>\n",
              "    </tr>\n",
              "    <tr>\n",
              "      <th class=\"index_name level0\" >visual blurring</th>\n",
              "      <th class=\"blank col0\" >&nbsp;</th>\n",
              "      <th class=\"blank col1\" >&nbsp;</th>\n",
              "    </tr>\n",
              "  </thead>\n",
              "  <tbody>\n",
              "    <tr>\n",
              "      <th id=\"T_684af_level0_row0\" class=\"row_heading level0 row0\" >No</th>\n",
              "      <td id=\"T_684af_row0_col0\" class=\"data row0 col0\" >71.000000</td>\n",
              "      <td id=\"T_684af_row0_col1\" class=\"data row0 col1\" >45.310000</td>\n",
              "    </tr>\n",
              "    <tr>\n",
              "      <th id=\"T_684af_level0_row1\" class=\"row_heading level0 row1\" >Yes</th>\n",
              "      <td id=\"T_684af_row1_col0\" class=\"data row1 col0\" >29.000000</td>\n",
              "      <td id=\"T_684af_row1_col1\" class=\"data row1 col1\" >54.690000</td>\n",
              "    </tr>\n",
              "  </tbody>\n",
              "</table>\n"
            ]
          },
          "metadata": {},
          "execution_count": 21
        }
      ],
      "source": [
        "plot_criteria= ['visual blurring', 'class']\n",
        "cm = sns.light_palette(\"green\", as_cmap=True)\n",
        "(round(pd.crosstab(df[plot_criteria[0]], df[plot_criteria[1]], normalize='columns') * 100,2)).style.background_gradient(cmap = cm)\n"
      ]
    },
    {
      "cell_type": "markdown",
      "metadata": {
        "id": "vY7d4cfQpATE"
      },
      "source": [
        "# Itching"
      ]
    },
    {
      "cell_type": "code",
      "execution_count": null,
      "metadata": {
        "colab": {
          "base_uri": "https://localhost:8080/",
          "height": 143
        },
        "id": "9ZdYA5gvpFVo",
        "outputId": "31125236-ef50-43d0-f42b-398aa93dd905"
      },
      "outputs": [
        {
          "output_type": "execute_result",
          "data": {
            "text/plain": [
              "<pandas.io.formats.style.Styler at 0x7f92a47df390>"
            ],
            "text/html": [
              "<style type=\"text/css\">\n",
              "#T_af00c_row0_col0, #T_af00c_row0_col1 {\n",
              "  background-color: #008000;\n",
              "  color: #f1f1f1;\n",
              "}\n",
              "#T_af00c_row1_col0, #T_af00c_row1_col1 {\n",
              "  background-color: #ebf3eb;\n",
              "  color: #000000;\n",
              "}\n",
              "</style>\n",
              "<table id=\"T_af00c_\" class=\"dataframe\">\n",
              "  <thead>\n",
              "    <tr>\n",
              "      <th class=\"index_name level0\" >class</th>\n",
              "      <th class=\"col_heading level0 col0\" >Negative</th>\n",
              "      <th class=\"col_heading level0 col1\" >Positive</th>\n",
              "    </tr>\n",
              "    <tr>\n",
              "      <th class=\"index_name level0\" >Itching</th>\n",
              "      <th class=\"blank col0\" >&nbsp;</th>\n",
              "      <th class=\"blank col1\" >&nbsp;</th>\n",
              "    </tr>\n",
              "  </thead>\n",
              "  <tbody>\n",
              "    <tr>\n",
              "      <th id=\"T_af00c_level0_row0\" class=\"row_heading level0 row0\" >No</th>\n",
              "      <td id=\"T_af00c_row0_col0\" class=\"data row0 col0\" >50.500000</td>\n",
              "      <td id=\"T_af00c_row0_col1\" class=\"data row0 col1\" >51.880000</td>\n",
              "    </tr>\n",
              "    <tr>\n",
              "      <th id=\"T_af00c_level0_row1\" class=\"row_heading level0 row1\" >Yes</th>\n",
              "      <td id=\"T_af00c_row1_col0\" class=\"data row1 col0\" >49.500000</td>\n",
              "      <td id=\"T_af00c_row1_col1\" class=\"data row1 col1\" >48.120000</td>\n",
              "    </tr>\n",
              "  </tbody>\n",
              "</table>\n"
            ]
          },
          "metadata": {},
          "execution_count": 22
        }
      ],
      "source": [
        "plot_criteria= ['Itching', 'class']\n",
        "cm = sns.light_palette(\"green\", as_cmap=True)\n",
        "(round(pd.crosstab(df[plot_criteria[0]], df[plot_criteria[1]], normalize='columns') * 100,2)).style.background_gradient(cmap = cm)"
      ]
    },
    {
      "cell_type": "markdown",
      "metadata": {
        "id": "LLZBds7_pibZ"
      },
      "source": [
        "# Irritability"
      ]
    },
    {
      "cell_type": "code",
      "execution_count": null,
      "metadata": {
        "colab": {
          "base_uri": "https://localhost:8080/",
          "height": 143
        },
        "id": "LKGjENbmpnXZ",
        "outputId": "866ed74d-6940-43d7-c537-2243adb25fab"
      },
      "outputs": [
        {
          "output_type": "execute_result",
          "data": {
            "text/plain": [
              "<pandas.io.formats.style.Styler at 0x7f92a487c890>"
            ],
            "text/html": [
              "<style type=\"text/css\">\n",
              "#T_e9877_row0_col0, #T_e9877_row0_col1 {\n",
              "  background-color: #008000;\n",
              "  color: #f1f1f1;\n",
              "}\n",
              "#T_e9877_row1_col0, #T_e9877_row1_col1 {\n",
              "  background-color: #ebf3eb;\n",
              "  color: #000000;\n",
              "}\n",
              "</style>\n",
              "<table id=\"T_e9877_\" class=\"dataframe\">\n",
              "  <thead>\n",
              "    <tr>\n",
              "      <th class=\"index_name level0\" >class</th>\n",
              "      <th class=\"col_heading level0 col0\" >Negative</th>\n",
              "      <th class=\"col_heading level0 col1\" >Positive</th>\n",
              "    </tr>\n",
              "    <tr>\n",
              "      <th class=\"index_name level0\" >Irritability</th>\n",
              "      <th class=\"blank col0\" >&nbsp;</th>\n",
              "      <th class=\"blank col1\" >&nbsp;</th>\n",
              "    </tr>\n",
              "  </thead>\n",
              "  <tbody>\n",
              "    <tr>\n",
              "      <th id=\"T_e9877_level0_row0\" class=\"row_heading level0 row0\" >No</th>\n",
              "      <td id=\"T_e9877_row0_col0\" class=\"data row0 col0\" >92.000000</td>\n",
              "      <td id=\"T_e9877_row0_col1\" class=\"data row0 col1\" >65.620000</td>\n",
              "    </tr>\n",
              "    <tr>\n",
              "      <th id=\"T_e9877_level0_row1\" class=\"row_heading level0 row1\" >Yes</th>\n",
              "      <td id=\"T_e9877_row1_col0\" class=\"data row1 col0\" >8.000000</td>\n",
              "      <td id=\"T_e9877_row1_col1\" class=\"data row1 col1\" >34.380000</td>\n",
              "    </tr>\n",
              "  </tbody>\n",
              "</table>\n"
            ]
          },
          "metadata": {},
          "execution_count": 23
        }
      ],
      "source": [
        "plot_criteria= ['Irritability', 'class']\n",
        "cm = sns.light_palette(\"green\", as_cmap=True)\n",
        "(round(pd.crosstab(df[plot_criteria[0]], df[plot_criteria[1]], normalize='columns') * 100,2)).style.background_gradient(cmap = cm)"
      ]
    },
    {
      "cell_type": "markdown",
      "metadata": {
        "id": "BZza7jWipr8Q"
      },
      "source": [
        "# Delayed Healing"
      ]
    },
    {
      "cell_type": "code",
      "execution_count": null,
      "metadata": {
        "colab": {
          "base_uri": "https://localhost:8080/",
          "height": 143
        },
        "id": "dmZh6Yvlp0dc",
        "outputId": "a2579422-7556-4857-9cc0-ce9385ec3b3c"
      },
      "outputs": [
        {
          "output_type": "execute_result",
          "data": {
            "text/plain": [
              "<pandas.io.formats.style.Styler at 0x7f92a4425d50>"
            ],
            "text/html": [
              "<style type=\"text/css\">\n",
              "#T_8ec71_row0_col0, #T_8ec71_row0_col1 {\n",
              "  background-color: #008000;\n",
              "  color: #f1f1f1;\n",
              "}\n",
              "#T_8ec71_row1_col0, #T_8ec71_row1_col1 {\n",
              "  background-color: #ebf3eb;\n",
              "  color: #000000;\n",
              "}\n",
              "</style>\n",
              "<table id=\"T_8ec71_\" class=\"dataframe\">\n",
              "  <thead>\n",
              "    <tr>\n",
              "      <th class=\"index_name level0\" >class</th>\n",
              "      <th class=\"col_heading level0 col0\" >Negative</th>\n",
              "      <th class=\"col_heading level0 col1\" >Positive</th>\n",
              "    </tr>\n",
              "    <tr>\n",
              "      <th class=\"index_name level0\" >delayed healing</th>\n",
              "      <th class=\"blank col0\" >&nbsp;</th>\n",
              "      <th class=\"blank col1\" >&nbsp;</th>\n",
              "    </tr>\n",
              "  </thead>\n",
              "  <tbody>\n",
              "    <tr>\n",
              "      <th id=\"T_8ec71_level0_row0\" class=\"row_heading level0 row0\" >No</th>\n",
              "      <td id=\"T_8ec71_row0_col0\" class=\"data row0 col0\" >57.000000</td>\n",
              "      <td id=\"T_8ec71_row0_col1\" class=\"data row0 col1\" >52.190000</td>\n",
              "    </tr>\n",
              "    <tr>\n",
              "      <th id=\"T_8ec71_level0_row1\" class=\"row_heading level0 row1\" >Yes</th>\n",
              "      <td id=\"T_8ec71_row1_col0\" class=\"data row1 col0\" >43.000000</td>\n",
              "      <td id=\"T_8ec71_row1_col1\" class=\"data row1 col1\" >47.810000</td>\n",
              "    </tr>\n",
              "  </tbody>\n",
              "</table>\n"
            ]
          },
          "metadata": {},
          "execution_count": 24
        }
      ],
      "source": [
        "plot_criteria= ['delayed healing', 'class']\n",
        "cm = sns.light_palette(\"green\", as_cmap=True)\n",
        "(round(pd.crosstab(df[plot_criteria[0]], df[plot_criteria[1]], normalize='columns') * 100,2)).style.background_gradient(cmap = cm)"
      ]
    },
    {
      "cell_type": "markdown",
      "metadata": {
        "id": "0HCF47BvqNmb"
      },
      "source": [
        "# Partial Paresis"
      ]
    },
    {
      "cell_type": "code",
      "execution_count": null,
      "metadata": {
        "colab": {
          "base_uri": "https://localhost:8080/",
          "height": 143
        },
        "id": "YXBb7Wf8p4BN",
        "outputId": "4605a617-270d-499b-8cf3-938e3e21dcd1"
      },
      "outputs": [
        {
          "output_type": "execute_result",
          "data": {
            "text/plain": [
              "<pandas.io.formats.style.Styler at 0x7f92a4416110>"
            ],
            "text/html": [
              "<style type=\"text/css\">\n",
              "#T_c3ab2_row0_col0, #T_c3ab2_row1_col1 {\n",
              "  background-color: #008000;\n",
              "  color: #f1f1f1;\n",
              "}\n",
              "#T_c3ab2_row0_col1, #T_c3ab2_row1_col0 {\n",
              "  background-color: #ebf3eb;\n",
              "  color: #000000;\n",
              "}\n",
              "</style>\n",
              "<table id=\"T_c3ab2_\" class=\"dataframe\">\n",
              "  <thead>\n",
              "    <tr>\n",
              "      <th class=\"index_name level0\" >class</th>\n",
              "      <th class=\"col_heading level0 col0\" >Negative</th>\n",
              "      <th class=\"col_heading level0 col1\" >Positive</th>\n",
              "    </tr>\n",
              "    <tr>\n",
              "      <th class=\"index_name level0\" >partial paresis</th>\n",
              "      <th class=\"blank col0\" >&nbsp;</th>\n",
              "      <th class=\"blank col1\" >&nbsp;</th>\n",
              "    </tr>\n",
              "  </thead>\n",
              "  <tbody>\n",
              "    <tr>\n",
              "      <th id=\"T_c3ab2_level0_row0\" class=\"row_heading level0 row0\" >No</th>\n",
              "      <td id=\"T_c3ab2_row0_col0\" class=\"data row0 col0\" >84.000000</td>\n",
              "      <td id=\"T_c3ab2_row0_col1\" class=\"data row0 col1\" >40.000000</td>\n",
              "    </tr>\n",
              "    <tr>\n",
              "      <th id=\"T_c3ab2_level0_row1\" class=\"row_heading level0 row1\" >Yes</th>\n",
              "      <td id=\"T_c3ab2_row1_col0\" class=\"data row1 col0\" >16.000000</td>\n",
              "      <td id=\"T_c3ab2_row1_col1\" class=\"data row1 col1\" >60.000000</td>\n",
              "    </tr>\n",
              "  </tbody>\n",
              "</table>\n"
            ]
          },
          "metadata": {},
          "execution_count": 25
        }
      ],
      "source": [
        "plot_criteria= ['partial paresis', 'class']\n",
        "cm = sns.light_palette(\"green\", as_cmap=True)\n",
        "(round(pd.crosstab(df[plot_criteria[0]], df[plot_criteria[1]], normalize='columns') * 100,2)).style.background_gradient(cmap = cm)"
      ]
    },
    {
      "cell_type": "markdown",
      "metadata": {
        "id": "ebutD4dmql4S"
      },
      "source": [
        "# Muscle Stiffness"
      ]
    },
    {
      "cell_type": "code",
      "execution_count": null,
      "metadata": {
        "colab": {
          "base_uri": "https://localhost:8080/",
          "height": 143
        },
        "id": "fnfl5IXdqq1d",
        "outputId": "e352de3f-096f-47f2-d278-12115903fe95"
      },
      "outputs": [
        {
          "output_type": "execute_result",
          "data": {
            "text/plain": [
              "<pandas.io.formats.style.Styler at 0x7f92a4434790>"
            ],
            "text/html": [
              "<style type=\"text/css\">\n",
              "#T_4f017_row0_col0, #T_4f017_row0_col1 {\n",
              "  background-color: #008000;\n",
              "  color: #f1f1f1;\n",
              "}\n",
              "#T_4f017_row1_col0, #T_4f017_row1_col1 {\n",
              "  background-color: #ebf3eb;\n",
              "  color: #000000;\n",
              "}\n",
              "</style>\n",
              "<table id=\"T_4f017_\" class=\"dataframe\">\n",
              "  <thead>\n",
              "    <tr>\n",
              "      <th class=\"index_name level0\" >class</th>\n",
              "      <th class=\"col_heading level0 col0\" >Negative</th>\n",
              "      <th class=\"col_heading level0 col1\" >Positive</th>\n",
              "    </tr>\n",
              "    <tr>\n",
              "      <th class=\"index_name level0\" >muscle stiffness</th>\n",
              "      <th class=\"blank col0\" >&nbsp;</th>\n",
              "      <th class=\"blank col1\" >&nbsp;</th>\n",
              "    </tr>\n",
              "  </thead>\n",
              "  <tbody>\n",
              "    <tr>\n",
              "      <th id=\"T_4f017_level0_row0\" class=\"row_heading level0 row0\" >No</th>\n",
              "      <td id=\"T_4f017_row0_col0\" class=\"data row0 col0\" >70.000000</td>\n",
              "      <td id=\"T_4f017_row0_col1\" class=\"data row0 col1\" >57.810000</td>\n",
              "    </tr>\n",
              "    <tr>\n",
              "      <th id=\"T_4f017_level0_row1\" class=\"row_heading level0 row1\" >Yes</th>\n",
              "      <td id=\"T_4f017_row1_col0\" class=\"data row1 col0\" >30.000000</td>\n",
              "      <td id=\"T_4f017_row1_col1\" class=\"data row1 col1\" >42.190000</td>\n",
              "    </tr>\n",
              "  </tbody>\n",
              "</table>\n"
            ]
          },
          "metadata": {},
          "execution_count": 26
        }
      ],
      "source": [
        "plot_criteria= ['muscle stiffness', 'class']\n",
        "cm = sns.light_palette(\"green\", as_cmap=True)\n",
        "(round(pd.crosstab(df[plot_criteria[0]], df[plot_criteria[1]], normalize='columns') * 100,2)).style.background_gradient(cmap = cm)"
      ]
    },
    {
      "cell_type": "markdown",
      "metadata": {
        "id": "ke_VV0udqyxz"
      },
      "source": [
        "# Alopecia"
      ]
    },
    {
      "cell_type": "code",
      "execution_count": null,
      "metadata": {
        "colab": {
          "base_uri": "https://localhost:8080/",
          "height": 143
        },
        "id": "9_Zv1CxGq1Hj",
        "outputId": "fcf4064c-3249-49b3-c891-f9b78a3905f2"
      },
      "outputs": [
        {
          "output_type": "execute_result",
          "data": {
            "text/plain": [
              "<pandas.io.formats.style.Styler at 0x7f92a44dc9d0>"
            ],
            "text/html": [
              "<style type=\"text/css\">\n",
              "#T_d867b_row0_col0, #T_d867b_row1_col1 {\n",
              "  background-color: #ebf3eb;\n",
              "  color: #000000;\n",
              "}\n",
              "#T_d867b_row0_col1, #T_d867b_row1_col0 {\n",
              "  background-color: #008000;\n",
              "  color: #f1f1f1;\n",
              "}\n",
              "</style>\n",
              "<table id=\"T_d867b_\" class=\"dataframe\">\n",
              "  <thead>\n",
              "    <tr>\n",
              "      <th class=\"index_name level0\" >class</th>\n",
              "      <th class=\"col_heading level0 col0\" >Negative</th>\n",
              "      <th class=\"col_heading level0 col1\" >Positive</th>\n",
              "    </tr>\n",
              "    <tr>\n",
              "      <th class=\"index_name level0\" >Alopecia</th>\n",
              "      <th class=\"blank col0\" >&nbsp;</th>\n",
              "      <th class=\"blank col1\" >&nbsp;</th>\n",
              "    </tr>\n",
              "  </thead>\n",
              "  <tbody>\n",
              "    <tr>\n",
              "      <th id=\"T_d867b_level0_row0\" class=\"row_heading level0 row0\" >No</th>\n",
              "      <td id=\"T_d867b_row0_col0\" class=\"data row0 col0\" >49.500000</td>\n",
              "      <td id=\"T_d867b_row0_col1\" class=\"data row0 col1\" >75.620000</td>\n",
              "    </tr>\n",
              "    <tr>\n",
              "      <th id=\"T_d867b_level0_row1\" class=\"row_heading level0 row1\" >Yes</th>\n",
              "      <td id=\"T_d867b_row1_col0\" class=\"data row1 col0\" >50.500000</td>\n",
              "      <td id=\"T_d867b_row1_col1\" class=\"data row1 col1\" >24.380000</td>\n",
              "    </tr>\n",
              "  </tbody>\n",
              "</table>\n"
            ]
          },
          "metadata": {},
          "execution_count": 27
        }
      ],
      "source": [
        "plot_criteria= ['Alopecia', 'class']\n",
        "cm = sns.light_palette(\"green\", as_cmap=True)\n",
        "(round(pd.crosstab(df[plot_criteria[0]], df[plot_criteria[1]], normalize='columns') * 100,2)).style.background_gradient(cmap = cm)"
      ]
    },
    {
      "cell_type": "markdown",
      "metadata": {
        "id": "IV3X-qkMrD2H"
      },
      "source": [
        "# **Obesity**"
      ]
    },
    {
      "cell_type": "code",
      "execution_count": null,
      "metadata": {
        "colab": {
          "base_uri": "https://localhost:8080/",
          "height": 143
        },
        "id": "pHTK6mmJrHAN",
        "outputId": "cabbfce6-b3ba-417d-c35b-2f225cd4aa55"
      },
      "outputs": [
        {
          "output_type": "execute_result",
          "data": {
            "text/plain": [
              "<pandas.io.formats.style.Styler at 0x7f92a47fb990>"
            ],
            "text/html": [
              "<style type=\"text/css\">\n",
              "#T_d6a76_row0_col0, #T_d6a76_row0_col1 {\n",
              "  background-color: #008000;\n",
              "  color: #f1f1f1;\n",
              "}\n",
              "#T_d6a76_row1_col0, #T_d6a76_row1_col1 {\n",
              "  background-color: #ebf3eb;\n",
              "  color: #000000;\n",
              "}\n",
              "</style>\n",
              "<table id=\"T_d6a76_\" class=\"dataframe\">\n",
              "  <thead>\n",
              "    <tr>\n",
              "      <th class=\"index_name level0\" >class</th>\n",
              "      <th class=\"col_heading level0 col0\" >Negative</th>\n",
              "      <th class=\"col_heading level0 col1\" >Positive</th>\n",
              "    </tr>\n",
              "    <tr>\n",
              "      <th class=\"index_name level0\" >Obesity</th>\n",
              "      <th class=\"blank col0\" >&nbsp;</th>\n",
              "      <th class=\"blank col1\" >&nbsp;</th>\n",
              "    </tr>\n",
              "  </thead>\n",
              "  <tbody>\n",
              "    <tr>\n",
              "      <th id=\"T_d6a76_level0_row0\" class=\"row_heading level0 row0\" >No</th>\n",
              "      <td id=\"T_d6a76_row0_col0\" class=\"data row0 col0\" >86.500000</td>\n",
              "      <td id=\"T_d6a76_row0_col1\" class=\"data row0 col1\" >80.940000</td>\n",
              "    </tr>\n",
              "    <tr>\n",
              "      <th id=\"T_d6a76_level0_row1\" class=\"row_heading level0 row1\" >Yes</th>\n",
              "      <td id=\"T_d6a76_row1_col0\" class=\"data row1 col0\" >13.500000</td>\n",
              "      <td id=\"T_d6a76_row1_col1\" class=\"data row1 col1\" >19.060000</td>\n",
              "    </tr>\n",
              "  </tbody>\n",
              "</table>\n"
            ]
          },
          "metadata": {},
          "execution_count": 28
        }
      ],
      "source": [
        "plot_criteria= ['Obesity', 'class']\n",
        "cm = sns.light_palette(\"green\", as_cmap=True)\n",
        "(round(pd.crosstab(df[plot_criteria[0]], df[plot_criteria[1]], normalize='columns') * 100,2)).style.background_gradient(cmap = cm)"
      ]
    },
    {
      "cell_type": "markdown",
      "metadata": {
        "id": "KoyOpxUrrLx1"
      },
      "source": [
        "# **DataPreprocessing**"
      ]
    },
    {
      "cell_type": "code",
      "execution_count": null,
      "metadata": {
        "id": "X-N1-Vl3rZVm"
      },
      "outputs": [],
      "source": [
        "df['class'] = df['class'].apply(lambda x: 0 if x=='Negative' else 1)"
      ]
    },
    {
      "cell_type": "code",
      "execution_count": null,
      "metadata": {
        "id": "6Nzs716irrQH",
        "colab": {
          "base_uri": "https://localhost:8080/",
          "height": 423
        },
        "outputId": "4814a9f1-08fc-4582-d732-eba63f30ab62"
      },
      "outputs": [
        {
          "output_type": "execute_result",
          "data": {
            "text/plain": [
              "     Age  Gender Polyuria Polydipsia sudden weight loss weakness Polyphagia  \\\n",
              "0     40    Male       No        Yes                 No      Yes         No   \n",
              "1     58    Male       No         No                 No      Yes         No   \n",
              "2     41    Male      Yes         No                 No      Yes        Yes   \n",
              "3     45    Male       No         No                Yes      Yes        Yes   \n",
              "4     60    Male      Yes        Yes                Yes      Yes        Yes   \n",
              "..   ...     ...      ...        ...                ...      ...        ...   \n",
              "515   39  Female      Yes        Yes                Yes       No        Yes   \n",
              "516   48  Female      Yes        Yes                Yes      Yes        Yes   \n",
              "517   58  Female      Yes        Yes                Yes      Yes        Yes   \n",
              "518   32  Female       No         No                 No      Yes         No   \n",
              "519   42    Male       No         No                 No       No         No   \n",
              "\n",
              "    Genital thrush visual blurring Itching Irritability delayed healing  \\\n",
              "0               No              No     Yes           No             Yes   \n",
              "1               No             Yes      No           No              No   \n",
              "2               No              No     Yes           No             Yes   \n",
              "3              Yes              No     Yes           No             Yes   \n",
              "4               No             Yes     Yes          Yes             Yes   \n",
              "..             ...             ...     ...          ...             ...   \n",
              "515             No              No     Yes           No             Yes   \n",
              "516             No              No     Yes          Yes             Yes   \n",
              "517             No             Yes      No           No              No   \n",
              "518             No             Yes     Yes           No             Yes   \n",
              "519             No              No      No           No              No   \n",
              "\n",
              "    partial paresis muscle stiffness Alopecia Obesity  \n",
              "0                No              Yes      Yes     Yes  \n",
              "1               Yes               No      Yes      No  \n",
              "2                No              Yes      Yes      No  \n",
              "3                No               No       No      No  \n",
              "4               Yes              Yes      Yes     Yes  \n",
              "..              ...              ...      ...     ...  \n",
              "515             Yes               No       No      No  \n",
              "516             Yes               No       No      No  \n",
              "517             Yes              Yes       No     Yes  \n",
              "518              No               No      Yes      No  \n",
              "519              No               No       No      No  \n",
              "\n",
              "[520 rows x 16 columns]"
            ],
            "text/html": [
              "\n",
              "  <div id=\"df-19302336-9415-46a6-a917-b862985e6fc9\">\n",
              "    <div class=\"colab-df-container\">\n",
              "      <div>\n",
              "<style scoped>\n",
              "    .dataframe tbody tr th:only-of-type {\n",
              "        vertical-align: middle;\n",
              "    }\n",
              "\n",
              "    .dataframe tbody tr th {\n",
              "        vertical-align: top;\n",
              "    }\n",
              "\n",
              "    .dataframe thead th {\n",
              "        text-align: right;\n",
              "    }\n",
              "</style>\n",
              "<table border=\"1\" class=\"dataframe\">\n",
              "  <thead>\n",
              "    <tr style=\"text-align: right;\">\n",
              "      <th></th>\n",
              "      <th>Age</th>\n",
              "      <th>Gender</th>\n",
              "      <th>Polyuria</th>\n",
              "      <th>Polydipsia</th>\n",
              "      <th>sudden weight loss</th>\n",
              "      <th>weakness</th>\n",
              "      <th>Polyphagia</th>\n",
              "      <th>Genital thrush</th>\n",
              "      <th>visual blurring</th>\n",
              "      <th>Itching</th>\n",
              "      <th>Irritability</th>\n",
              "      <th>delayed healing</th>\n",
              "      <th>partial paresis</th>\n",
              "      <th>muscle stiffness</th>\n",
              "      <th>Alopecia</th>\n",
              "      <th>Obesity</th>\n",
              "    </tr>\n",
              "  </thead>\n",
              "  <tbody>\n",
              "    <tr>\n",
              "      <th>0</th>\n",
              "      <td>40</td>\n",
              "      <td>Male</td>\n",
              "      <td>No</td>\n",
              "      <td>Yes</td>\n",
              "      <td>No</td>\n",
              "      <td>Yes</td>\n",
              "      <td>No</td>\n",
              "      <td>No</td>\n",
              "      <td>No</td>\n",
              "      <td>Yes</td>\n",
              "      <td>No</td>\n",
              "      <td>Yes</td>\n",
              "      <td>No</td>\n",
              "      <td>Yes</td>\n",
              "      <td>Yes</td>\n",
              "      <td>Yes</td>\n",
              "    </tr>\n",
              "    <tr>\n",
              "      <th>1</th>\n",
              "      <td>58</td>\n",
              "      <td>Male</td>\n",
              "      <td>No</td>\n",
              "      <td>No</td>\n",
              "      <td>No</td>\n",
              "      <td>Yes</td>\n",
              "      <td>No</td>\n",
              "      <td>No</td>\n",
              "      <td>Yes</td>\n",
              "      <td>No</td>\n",
              "      <td>No</td>\n",
              "      <td>No</td>\n",
              "      <td>Yes</td>\n",
              "      <td>No</td>\n",
              "      <td>Yes</td>\n",
              "      <td>No</td>\n",
              "    </tr>\n",
              "    <tr>\n",
              "      <th>2</th>\n",
              "      <td>41</td>\n",
              "      <td>Male</td>\n",
              "      <td>Yes</td>\n",
              "      <td>No</td>\n",
              "      <td>No</td>\n",
              "      <td>Yes</td>\n",
              "      <td>Yes</td>\n",
              "      <td>No</td>\n",
              "      <td>No</td>\n",
              "      <td>Yes</td>\n",
              "      <td>No</td>\n",
              "      <td>Yes</td>\n",
              "      <td>No</td>\n",
              "      <td>Yes</td>\n",
              "      <td>Yes</td>\n",
              "      <td>No</td>\n",
              "    </tr>\n",
              "    <tr>\n",
              "      <th>3</th>\n",
              "      <td>45</td>\n",
              "      <td>Male</td>\n",
              "      <td>No</td>\n",
              "      <td>No</td>\n",
              "      <td>Yes</td>\n",
              "      <td>Yes</td>\n",
              "      <td>Yes</td>\n",
              "      <td>Yes</td>\n",
              "      <td>No</td>\n",
              "      <td>Yes</td>\n",
              "      <td>No</td>\n",
              "      <td>Yes</td>\n",
              "      <td>No</td>\n",
              "      <td>No</td>\n",
              "      <td>No</td>\n",
              "      <td>No</td>\n",
              "    </tr>\n",
              "    <tr>\n",
              "      <th>4</th>\n",
              "      <td>60</td>\n",
              "      <td>Male</td>\n",
              "      <td>Yes</td>\n",
              "      <td>Yes</td>\n",
              "      <td>Yes</td>\n",
              "      <td>Yes</td>\n",
              "      <td>Yes</td>\n",
              "      <td>No</td>\n",
              "      <td>Yes</td>\n",
              "      <td>Yes</td>\n",
              "      <td>Yes</td>\n",
              "      <td>Yes</td>\n",
              "      <td>Yes</td>\n",
              "      <td>Yes</td>\n",
              "      <td>Yes</td>\n",
              "      <td>Yes</td>\n",
              "    </tr>\n",
              "    <tr>\n",
              "      <th>...</th>\n",
              "      <td>...</td>\n",
              "      <td>...</td>\n",
              "      <td>...</td>\n",
              "      <td>...</td>\n",
              "      <td>...</td>\n",
              "      <td>...</td>\n",
              "      <td>...</td>\n",
              "      <td>...</td>\n",
              "      <td>...</td>\n",
              "      <td>...</td>\n",
              "      <td>...</td>\n",
              "      <td>...</td>\n",
              "      <td>...</td>\n",
              "      <td>...</td>\n",
              "      <td>...</td>\n",
              "      <td>...</td>\n",
              "    </tr>\n",
              "    <tr>\n",
              "      <th>515</th>\n",
              "      <td>39</td>\n",
              "      <td>Female</td>\n",
              "      <td>Yes</td>\n",
              "      <td>Yes</td>\n",
              "      <td>Yes</td>\n",
              "      <td>No</td>\n",
              "      <td>Yes</td>\n",
              "      <td>No</td>\n",
              "      <td>No</td>\n",
              "      <td>Yes</td>\n",
              "      <td>No</td>\n",
              "      <td>Yes</td>\n",
              "      <td>Yes</td>\n",
              "      <td>No</td>\n",
              "      <td>No</td>\n",
              "      <td>No</td>\n",
              "    </tr>\n",
              "    <tr>\n",
              "      <th>516</th>\n",
              "      <td>48</td>\n",
              "      <td>Female</td>\n",
              "      <td>Yes</td>\n",
              "      <td>Yes</td>\n",
              "      <td>Yes</td>\n",
              "      <td>Yes</td>\n",
              "      <td>Yes</td>\n",
              "      <td>No</td>\n",
              "      <td>No</td>\n",
              "      <td>Yes</td>\n",
              "      <td>Yes</td>\n",
              "      <td>Yes</td>\n",
              "      <td>Yes</td>\n",
              "      <td>No</td>\n",
              "      <td>No</td>\n",
              "      <td>No</td>\n",
              "    </tr>\n",
              "    <tr>\n",
              "      <th>517</th>\n",
              "      <td>58</td>\n",
              "      <td>Female</td>\n",
              "      <td>Yes</td>\n",
              "      <td>Yes</td>\n",
              "      <td>Yes</td>\n",
              "      <td>Yes</td>\n",
              "      <td>Yes</td>\n",
              "      <td>No</td>\n",
              "      <td>Yes</td>\n",
              "      <td>No</td>\n",
              "      <td>No</td>\n",
              "      <td>No</td>\n",
              "      <td>Yes</td>\n",
              "      <td>Yes</td>\n",
              "      <td>No</td>\n",
              "      <td>Yes</td>\n",
              "    </tr>\n",
              "    <tr>\n",
              "      <th>518</th>\n",
              "      <td>32</td>\n",
              "      <td>Female</td>\n",
              "      <td>No</td>\n",
              "      <td>No</td>\n",
              "      <td>No</td>\n",
              "      <td>Yes</td>\n",
              "      <td>No</td>\n",
              "      <td>No</td>\n",
              "      <td>Yes</td>\n",
              "      <td>Yes</td>\n",
              "      <td>No</td>\n",
              "      <td>Yes</td>\n",
              "      <td>No</td>\n",
              "      <td>No</td>\n",
              "      <td>Yes</td>\n",
              "      <td>No</td>\n",
              "    </tr>\n",
              "    <tr>\n",
              "      <th>519</th>\n",
              "      <td>42</td>\n",
              "      <td>Male</td>\n",
              "      <td>No</td>\n",
              "      <td>No</td>\n",
              "      <td>No</td>\n",
              "      <td>No</td>\n",
              "      <td>No</td>\n",
              "      <td>No</td>\n",
              "      <td>No</td>\n",
              "      <td>No</td>\n",
              "      <td>No</td>\n",
              "      <td>No</td>\n",
              "      <td>No</td>\n",
              "      <td>No</td>\n",
              "      <td>No</td>\n",
              "      <td>No</td>\n",
              "    </tr>\n",
              "  </tbody>\n",
              "</table>\n",
              "<p>520 rows × 16 columns</p>\n",
              "</div>\n",
              "      <button class=\"colab-df-convert\" onclick=\"convertToInteractive('df-19302336-9415-46a6-a917-b862985e6fc9')\"\n",
              "              title=\"Convert this dataframe to an interactive table.\"\n",
              "              style=\"display:none;\">\n",
              "        \n",
              "  <svg xmlns=\"http://www.w3.org/2000/svg\" height=\"24px\"viewBox=\"0 0 24 24\"\n",
              "       width=\"24px\">\n",
              "    <path d=\"M0 0h24v24H0V0z\" fill=\"none\"/>\n",
              "    <path d=\"M18.56 5.44l.94 2.06.94-2.06 2.06-.94-2.06-.94-.94-2.06-.94 2.06-2.06.94zm-11 1L8.5 8.5l.94-2.06 2.06-.94-2.06-.94L8.5 2.5l-.94 2.06-2.06.94zm10 10l.94 2.06.94-2.06 2.06-.94-2.06-.94-.94-2.06-.94 2.06-2.06.94z\"/><path d=\"M17.41 7.96l-1.37-1.37c-.4-.4-.92-.59-1.43-.59-.52 0-1.04.2-1.43.59L10.3 9.45l-7.72 7.72c-.78.78-.78 2.05 0 2.83L4 21.41c.39.39.9.59 1.41.59.51 0 1.02-.2 1.41-.59l7.78-7.78 2.81-2.81c.8-.78.8-2.07 0-2.86zM5.41 20L4 18.59l7.72-7.72 1.47 1.35L5.41 20z\"/>\n",
              "  </svg>\n",
              "      </button>\n",
              "      \n",
              "  <style>\n",
              "    .colab-df-container {\n",
              "      display:flex;\n",
              "      flex-wrap:wrap;\n",
              "      gap: 12px;\n",
              "    }\n",
              "\n",
              "    .colab-df-convert {\n",
              "      background-color: #E8F0FE;\n",
              "      border: none;\n",
              "      border-radius: 50%;\n",
              "      cursor: pointer;\n",
              "      display: none;\n",
              "      fill: #1967D2;\n",
              "      height: 32px;\n",
              "      padding: 0 0 0 0;\n",
              "      width: 32px;\n",
              "    }\n",
              "\n",
              "    .colab-df-convert:hover {\n",
              "      background-color: #E2EBFA;\n",
              "      box-shadow: 0px 1px 2px rgba(60, 64, 67, 0.3), 0px 1px 3px 1px rgba(60, 64, 67, 0.15);\n",
              "      fill: #174EA6;\n",
              "    }\n",
              "\n",
              "    [theme=dark] .colab-df-convert {\n",
              "      background-color: #3B4455;\n",
              "      fill: #D2E3FC;\n",
              "    }\n",
              "\n",
              "    [theme=dark] .colab-df-convert:hover {\n",
              "      background-color: #434B5C;\n",
              "      box-shadow: 0px 1px 3px 1px rgba(0, 0, 0, 0.15);\n",
              "      filter: drop-shadow(0px 1px 2px rgba(0, 0, 0, 0.3));\n",
              "      fill: #FFFFFF;\n",
              "    }\n",
              "  </style>\n",
              "\n",
              "      <script>\n",
              "        const buttonEl =\n",
              "          document.querySelector('#df-19302336-9415-46a6-a917-b862985e6fc9 button.colab-df-convert');\n",
              "        buttonEl.style.display =\n",
              "          google.colab.kernel.accessAllowed ? 'block' : 'none';\n",
              "\n",
              "        async function convertToInteractive(key) {\n",
              "          const element = document.querySelector('#df-19302336-9415-46a6-a917-b862985e6fc9');\n",
              "          const dataTable =\n",
              "            await google.colab.kernel.invokeFunction('convertToInteractive',\n",
              "                                                     [key], {});\n",
              "          if (!dataTable) return;\n",
              "\n",
              "          const docLinkHtml = 'Like what you see? Visit the ' +\n",
              "            '<a target=\"_blank\" href=https://colab.research.google.com/notebooks/data_table.ipynb>data table notebook</a>'\n",
              "            + ' to learn more about interactive tables.';\n",
              "          element.innerHTML = '';\n",
              "          dataTable['output_type'] = 'display_data';\n",
              "          await google.colab.output.renderOutput(dataTable, element);\n",
              "          const docLink = document.createElement('div');\n",
              "          docLink.innerHTML = docLinkHtml;\n",
              "          element.appendChild(docLink);\n",
              "        }\n",
              "      </script>\n",
              "    </div>\n",
              "  </div>\n",
              "  "
            ]
          },
          "metadata": {},
          "execution_count": 30
        }
      ],
      "source": [
        "X= df.drop(['class'],axis=1)\n",
        "y=df['class']\n",
        "X"
      ]
    },
    {
      "cell_type": "code",
      "execution_count": null,
      "metadata": {
        "colab": {
          "base_uri": "https://localhost:8080/"
        },
        "id": "V4bPrKtMrrg7",
        "outputId": "75d44ac5-eb5d-49da-abf6-5e5c0043e3d5"
      },
      "outputs": [
        {
          "output_type": "stream",
          "name": "stdout",
          "text": [
            "Index(['Gender', 'Polyuria', 'Polydipsia', 'sudden weight loss', 'weakness',\n",
            "       'Polyphagia', 'Genital thrush', 'visual blurring', 'Itching',\n",
            "       'Irritability', 'delayed healing', 'partial paresis',\n",
            "       'muscle stiffness', 'Alopecia', 'Obesity'],\n",
            "      dtype='object')\n"
          ]
        }
      ],
      "source": [
        "obj = X.select_dtypes(include = \"object\").columns\n",
        "print (obj)"
      ]
    },
    {
      "cell_type": "code",
      "execution_count": null,
      "metadata": {
        "colab": {
          "base_uri": "https://localhost:8080/"
        },
        "id": "_SR3lsRXsBtj",
        "outputId": "a74178a7-a275-41ee-d4ec-c151bb1b3c21"
      },
      "outputs": [
        {
          "output_type": "stream",
          "name": "stdout",
          "text": [
            "<class 'pandas.core.frame.DataFrame'>\n",
            "RangeIndex: 520 entries, 0 to 519\n",
            "Data columns (total 16 columns):\n",
            " #   Column              Non-Null Count  Dtype\n",
            "---  ------              --------------  -----\n",
            " 0   Age                 520 non-null    int64\n",
            " 1   Gender              520 non-null    int64\n",
            " 2   Polyuria            520 non-null    int64\n",
            " 3   Polydipsia          520 non-null    int64\n",
            " 4   sudden weight loss  520 non-null    int64\n",
            " 5   weakness            520 non-null    int64\n",
            " 6   Polyphagia          520 non-null    int64\n",
            " 7   Genital thrush      520 non-null    int64\n",
            " 8   visual blurring     520 non-null    int64\n",
            " 9   Itching             520 non-null    int64\n",
            " 10  Irritability        520 non-null    int64\n",
            " 11  delayed healing     520 non-null    int64\n",
            " 12  partial paresis     520 non-null    int64\n",
            " 13  muscle stiffness    520 non-null    int64\n",
            " 14  Alopecia            520 non-null    int64\n",
            " 15  Obesity             520 non-null    int64\n",
            "dtypes: int64(16)\n",
            "memory usage: 65.1 KB\n",
            "None\n"
          ]
        }
      ],
      "source": [
        "from sklearn.preprocessing import LabelEncoder\n",
        "le = LabelEncoder()\n",
        "for f in obj:\n",
        "    X[f] = le.fit_transform(X[f].astype(str))\n",
        "\n",
        "print (X.info())"
      ]
    },
    {
      "cell_type": "code",
      "execution_count": null,
      "metadata": {
        "colab": {
          "base_uri": "https://localhost:8080/",
          "height": 206
        },
        "id": "IJ9QqBDdsJPg",
        "outputId": "adca52e4-5e0c-4dec-e8e9-576c78f2e872"
      },
      "outputs": [
        {
          "output_type": "execute_result",
          "data": {
            "text/plain": [
              "   Age  Gender  Polyuria  Polydipsia  sudden weight loss  weakness  \\\n",
              "0   40       1         0           1                   0         1   \n",
              "1   58       1         0           0                   0         1   \n",
              "2   41       1         1           0                   0         1   \n",
              "3   45       1         0           0                   1         1   \n",
              "4   60       1         1           1                   1         1   \n",
              "\n",
              "   Polyphagia  Genital thrush  visual blurring  Itching  Irritability  \\\n",
              "0           0               0                0        1             0   \n",
              "1           0               0                1        0             0   \n",
              "2           1               0                0        1             0   \n",
              "3           1               1                0        1             0   \n",
              "4           1               0                1        1             1   \n",
              "\n",
              "   delayed healing  partial paresis  muscle stiffness  Alopecia  Obesity  \n",
              "0                1                0                 1         1        1  \n",
              "1                0                1                 0         1        0  \n",
              "2                1                0                 1         1        0  \n",
              "3                1                0                 0         0        0  \n",
              "4                1                1                 1         1        1  "
            ],
            "text/html": [
              "\n",
              "  <div id=\"df-3af54497-9c45-4660-91e5-da0f937c7e32\">\n",
              "    <div class=\"colab-df-container\">\n",
              "      <div>\n",
              "<style scoped>\n",
              "    .dataframe tbody tr th:only-of-type {\n",
              "        vertical-align: middle;\n",
              "    }\n",
              "\n",
              "    .dataframe tbody tr th {\n",
              "        vertical-align: top;\n",
              "    }\n",
              "\n",
              "    .dataframe thead th {\n",
              "        text-align: right;\n",
              "    }\n",
              "</style>\n",
              "<table border=\"1\" class=\"dataframe\">\n",
              "  <thead>\n",
              "    <tr style=\"text-align: right;\">\n",
              "      <th></th>\n",
              "      <th>Age</th>\n",
              "      <th>Gender</th>\n",
              "      <th>Polyuria</th>\n",
              "      <th>Polydipsia</th>\n",
              "      <th>sudden weight loss</th>\n",
              "      <th>weakness</th>\n",
              "      <th>Polyphagia</th>\n",
              "      <th>Genital thrush</th>\n",
              "      <th>visual blurring</th>\n",
              "      <th>Itching</th>\n",
              "      <th>Irritability</th>\n",
              "      <th>delayed healing</th>\n",
              "      <th>partial paresis</th>\n",
              "      <th>muscle stiffness</th>\n",
              "      <th>Alopecia</th>\n",
              "      <th>Obesity</th>\n",
              "    </tr>\n",
              "  </thead>\n",
              "  <tbody>\n",
              "    <tr>\n",
              "      <th>0</th>\n",
              "      <td>40</td>\n",
              "      <td>1</td>\n",
              "      <td>0</td>\n",
              "      <td>1</td>\n",
              "      <td>0</td>\n",
              "      <td>1</td>\n",
              "      <td>0</td>\n",
              "      <td>0</td>\n",
              "      <td>0</td>\n",
              "      <td>1</td>\n",
              "      <td>0</td>\n",
              "      <td>1</td>\n",
              "      <td>0</td>\n",
              "      <td>1</td>\n",
              "      <td>1</td>\n",
              "      <td>1</td>\n",
              "    </tr>\n",
              "    <tr>\n",
              "      <th>1</th>\n",
              "      <td>58</td>\n",
              "      <td>1</td>\n",
              "      <td>0</td>\n",
              "      <td>0</td>\n",
              "      <td>0</td>\n",
              "      <td>1</td>\n",
              "      <td>0</td>\n",
              "      <td>0</td>\n",
              "      <td>1</td>\n",
              "      <td>0</td>\n",
              "      <td>0</td>\n",
              "      <td>0</td>\n",
              "      <td>1</td>\n",
              "      <td>0</td>\n",
              "      <td>1</td>\n",
              "      <td>0</td>\n",
              "    </tr>\n",
              "    <tr>\n",
              "      <th>2</th>\n",
              "      <td>41</td>\n",
              "      <td>1</td>\n",
              "      <td>1</td>\n",
              "      <td>0</td>\n",
              "      <td>0</td>\n",
              "      <td>1</td>\n",
              "      <td>1</td>\n",
              "      <td>0</td>\n",
              "      <td>0</td>\n",
              "      <td>1</td>\n",
              "      <td>0</td>\n",
              "      <td>1</td>\n",
              "      <td>0</td>\n",
              "      <td>1</td>\n",
              "      <td>1</td>\n",
              "      <td>0</td>\n",
              "    </tr>\n",
              "    <tr>\n",
              "      <th>3</th>\n",
              "      <td>45</td>\n",
              "      <td>1</td>\n",
              "      <td>0</td>\n",
              "      <td>0</td>\n",
              "      <td>1</td>\n",
              "      <td>1</td>\n",
              "      <td>1</td>\n",
              "      <td>1</td>\n",
              "      <td>0</td>\n",
              "      <td>1</td>\n",
              "      <td>0</td>\n",
              "      <td>1</td>\n",
              "      <td>0</td>\n",
              "      <td>0</td>\n",
              "      <td>0</td>\n",
              "      <td>0</td>\n",
              "    </tr>\n",
              "    <tr>\n",
              "      <th>4</th>\n",
              "      <td>60</td>\n",
              "      <td>1</td>\n",
              "      <td>1</td>\n",
              "      <td>1</td>\n",
              "      <td>1</td>\n",
              "      <td>1</td>\n",
              "      <td>1</td>\n",
              "      <td>0</td>\n",
              "      <td>1</td>\n",
              "      <td>1</td>\n",
              "      <td>1</td>\n",
              "      <td>1</td>\n",
              "      <td>1</td>\n",
              "      <td>1</td>\n",
              "      <td>1</td>\n",
              "      <td>1</td>\n",
              "    </tr>\n",
              "  </tbody>\n",
              "</table>\n",
              "</div>\n",
              "      <button class=\"colab-df-convert\" onclick=\"convertToInteractive('df-3af54497-9c45-4660-91e5-da0f937c7e32')\"\n",
              "              title=\"Convert this dataframe to an interactive table.\"\n",
              "              style=\"display:none;\">\n",
              "        \n",
              "  <svg xmlns=\"http://www.w3.org/2000/svg\" height=\"24px\"viewBox=\"0 0 24 24\"\n",
              "       width=\"24px\">\n",
              "    <path d=\"M0 0h24v24H0V0z\" fill=\"none\"/>\n",
              "    <path d=\"M18.56 5.44l.94 2.06.94-2.06 2.06-.94-2.06-.94-.94-2.06-.94 2.06-2.06.94zm-11 1L8.5 8.5l.94-2.06 2.06-.94-2.06-.94L8.5 2.5l-.94 2.06-2.06.94zm10 10l.94 2.06.94-2.06 2.06-.94-2.06-.94-.94-2.06-.94 2.06-2.06.94z\"/><path d=\"M17.41 7.96l-1.37-1.37c-.4-.4-.92-.59-1.43-.59-.52 0-1.04.2-1.43.59L10.3 9.45l-7.72 7.72c-.78.78-.78 2.05 0 2.83L4 21.41c.39.39.9.59 1.41.59.51 0 1.02-.2 1.41-.59l7.78-7.78 2.81-2.81c.8-.78.8-2.07 0-2.86zM5.41 20L4 18.59l7.72-7.72 1.47 1.35L5.41 20z\"/>\n",
              "  </svg>\n",
              "      </button>\n",
              "      \n",
              "  <style>\n",
              "    .colab-df-container {\n",
              "      display:flex;\n",
              "      flex-wrap:wrap;\n",
              "      gap: 12px;\n",
              "    }\n",
              "\n",
              "    .colab-df-convert {\n",
              "      background-color: #E8F0FE;\n",
              "      border: none;\n",
              "      border-radius: 50%;\n",
              "      cursor: pointer;\n",
              "      display: none;\n",
              "      fill: #1967D2;\n",
              "      height: 32px;\n",
              "      padding: 0 0 0 0;\n",
              "      width: 32px;\n",
              "    }\n",
              "\n",
              "    .colab-df-convert:hover {\n",
              "      background-color: #E2EBFA;\n",
              "      box-shadow: 0px 1px 2px rgba(60, 64, 67, 0.3), 0px 1px 3px 1px rgba(60, 64, 67, 0.15);\n",
              "      fill: #174EA6;\n",
              "    }\n",
              "\n",
              "    [theme=dark] .colab-df-convert {\n",
              "      background-color: #3B4455;\n",
              "      fill: #D2E3FC;\n",
              "    }\n",
              "\n",
              "    [theme=dark] .colab-df-convert:hover {\n",
              "      background-color: #434B5C;\n",
              "      box-shadow: 0px 1px 3px 1px rgba(0, 0, 0, 0.15);\n",
              "      filter: drop-shadow(0px 1px 2px rgba(0, 0, 0, 0.3));\n",
              "      fill: #FFFFFF;\n",
              "    }\n",
              "  </style>\n",
              "\n",
              "      <script>\n",
              "        const buttonEl =\n",
              "          document.querySelector('#df-3af54497-9c45-4660-91e5-da0f937c7e32 button.colab-df-convert');\n",
              "        buttonEl.style.display =\n",
              "          google.colab.kernel.accessAllowed ? 'block' : 'none';\n",
              "\n",
              "        async function convertToInteractive(key) {\n",
              "          const element = document.querySelector('#df-3af54497-9c45-4660-91e5-da0f937c7e32');\n",
              "          const dataTable =\n",
              "            await google.colab.kernel.invokeFunction('convertToInteractive',\n",
              "                                                     [key], {});\n",
              "          if (!dataTable) return;\n",
              "\n",
              "          const docLinkHtml = 'Like what you see? Visit the ' +\n",
              "            '<a target=\"_blank\" href=https://colab.research.google.com/notebooks/data_table.ipynb>data table notebook</a>'\n",
              "            + ' to learn more about interactive tables.';\n",
              "          element.innerHTML = '';\n",
              "          dataTable['output_type'] = 'display_data';\n",
              "          await google.colab.output.renderOutput(dataTable, element);\n",
              "          const docLink = document.createElement('div');\n",
              "          docLink.innerHTML = docLinkHtml;\n",
              "          element.appendChild(docLink);\n",
              "        }\n",
              "      </script>\n",
              "    </div>\n",
              "  </div>\n",
              "  "
            ]
          },
          "metadata": {},
          "execution_count": 33
        }
      ],
      "source": [
        "X.head()"
      ]
    },
    {
      "cell_type": "markdown",
      "metadata": {
        "id": "rTebGXo8sWD2"
      },
      "source": [
        "# **Correlation**"
      ]
    },
    {
      "cell_type": "code",
      "execution_count": null,
      "metadata": {
        "colab": {
          "base_uri": "https://localhost:8080/"
        },
        "id": "nTZoGijksZ7Y",
        "outputId": "2f004942-f343-4a81-d616-12352e1ad6a3"
      },
      "outputs": [
        {
          "output_type": "execute_result",
          "data": {
            "text/plain": [
              "Age                   0.108679\n",
              "Gender               -0.449233\n",
              "Polyuria              0.665922\n",
              "Polydipsia            0.648734\n",
              "sudden weight loss    0.436568\n",
              "weakness              0.243275\n",
              "Polyphagia            0.342504\n",
              "Genital thrush        0.110288\n",
              "visual blurring       0.251300\n",
              "Itching              -0.013384\n",
              "Irritability          0.299467\n",
              "delayed healing       0.046980\n",
              "partial paresis       0.432288\n",
              "muscle stiffness      0.122474\n",
              "Alopecia             -0.267512\n",
              "Obesity               0.072173\n",
              "dtype: float64"
            ]
          },
          "metadata": {},
          "execution_count": 34
        }
      ],
      "source": [
        "X.corrwith(y)"
      ]
    },
    {
      "cell_type": "code",
      "execution_count": null,
      "metadata": {
        "colab": {
          "base_uri": "https://localhost:8080/",
          "height": 551
        },
        "id": "Sc0G9KwRs0bv",
        "outputId": "55792bb3-e0bd-4c78-9b6f-f9373f137859"
      },
      "outputs": [
        {
          "output_type": "execute_result",
          "data": {
            "text/plain": [
              "<matplotlib.axes._subplots.AxesSubplot at 0x7f92a442d450>"
            ]
          },
          "metadata": {},
          "execution_count": 35
        },
        {
          "output_type": "display_data",
          "data": {
            "text/plain": [
              "<Figure size 1152x432 with 1 Axes>"
            ],
            "image/png": "[encoded data removed]"
          },
          "metadata": {
            "needs_background": "light"
          }
        }
      ],
      "source": [
        "X.corrwith(y).plot.bar(\n",
        "        figsize = (16, 6), title = \"Correlation with Diabetes\", fontsize = 16,\n",
        "        rot = 90, grid = True)"
      ]
    },
    {
      "cell_type": "markdown",
      "metadata": {
        "id": "TfgK3m2RtRFF"
      },
      "source": [
        "# **Train and Test Data**"
      ]
    },
    {
      "cell_type": "code",
      "execution_count": null,
      "metadata": {
        "id": "WiG_8BiqtMpT"
      },
      "outputs": [],
      "source": [
        "X_train, X_test, y_train, y_test = train_test_split(X, y, test_size = 0.2,stratify=y, random_state = 1234)"
      ]
    },
    {
      "cell_type": "code",
      "execution_count": null,
      "metadata": {
        "colab": {
          "base_uri": "https://localhost:8080/"
        },
        "id": "sD4xvsN8s5Yn",
        "outputId": "decd59b9-59bd-411f-d017-d0806d7c58f4"
      },
      "outputs": [
        {
          "output_type": "stream",
          "name": "stdout",
          "text": [
            "Distribution of target variable in training set\n",
            "1    256\n",
            "0    160\n",
            "Name: class, dtype: int64\n",
            "Distribution of target variable in test set\n",
            "1    64\n",
            "0    40\n",
            "Name: class, dtype: int64\n"
          ]
        }
      ],
      "source": [
        "print('Distribution of target variable in training set')\n",
        "print(y_train.value_counts())\n",
        "print('Distribution of target variable in test set')\n",
        "print(y_test.value_counts())"
      ]
    },
    {
      "cell_type": "code",
      "execution_count": null,
      "metadata": {
        "colab": {
          "base_uri": "https://localhost:8080/",
          "height": 206
        },
        "id": "FIvwHVLzqmai",
        "outputId": "81458c76-cc59-4727-adb9-e9b3282a26c3"
      },
      "outputs": [
        {
          "output_type": "execute_result",
          "data": {
            "text/plain": [
              "          Age  Gender  Polyuria  Polydipsia  sudden weight loss  weakness  \\\n",
              "246  0.405405       1         0           0                   0         1   \n",
              "274  0.554054       1         0           0                   0         0   \n",
              "424  0.364865       1         1           1                   1         1   \n",
              "316  0.527027       0         0           0                   0         1   \n",
              "159  0.297297       0         1           1                   1         1   \n",
              "\n",
              "     Polyphagia  Genital thrush  visual blurring  Itching  Irritability  \\\n",
              "246           0               0                0        1             0   \n",
              "274           1               0                1        0             0   \n",
              "424           0               1                0        0             0   \n",
              "316           0               1                0        1             0   \n",
              "159           1               0                1        1             1   \n",
              "\n",
              "     delayed healing  partial paresis  muscle stiffness  Alopecia  Obesity  \n",
              "246                1                0                 0         1        0  \n",
              "274                0                0                 1         0        0  \n",
              "424                0                0                 0         0        0  \n",
              "316                1                1                 0         1        0  \n",
              "159                1                1                 1         0        0  "
            ],
            "text/html": [
              "\n",
              "  <div id=\"df-80affe52-ba78-4fe5-87ea-41f9eca0eb45\">\n",
              "    <div class=\"colab-df-container\">\n",
              "      <div>\n",
              "<style scoped>\n",
              "    .dataframe tbody tr th:only-of-type {\n",
              "        vertical-align: middle;\n",
              "    }\n",
              "\n",
              "    .dataframe tbody tr th {\n",
              "        vertical-align: top;\n",
              "    }\n",
              "\n",
              "    .dataframe thead th {\n",
              "        text-align: right;\n",
              "    }\n",
              "</style>\n",
              "<table border=\"1\" class=\"dataframe\">\n",
              "  <thead>\n",
              "    <tr style=\"text-align: right;\">\n",
              "      <th></th>\n",
              "      <th>Age</th>\n",
              "      <th>Gender</th>\n",
              "      <th>Polyuria</th>\n",
              "      <th>Polydipsia</th>\n",
              "      <th>sudden weight loss</th>\n",
              "      <th>weakness</th>\n",
              "      <th>Polyphagia</th>\n",
              "      <th>Genital thrush</th>\n",
              "      <th>visual blurring</th>\n",
              "      <th>Itching</th>\n",
              "      <th>Irritability</th>\n",
              "      <th>delayed healing</th>\n",
              "      <th>partial paresis</th>\n",
              "      <th>muscle stiffness</th>\n",
              "      <th>Alopecia</th>\n",
              "      <th>Obesity</th>\n",
              "    </tr>\n",
              "  </thead>\n",
              "  <tbody>\n",
              "    <tr>\n",
              "      <th>246</th>\n",
              "      <td>0.405405</td>\n",
              "      <td>1</td>\n",
              "      <td>0</td>\n",
              "      <td>0</td>\n",
              "      <td>0</td>\n",
              "      <td>1</td>\n",
              "      <td>0</td>\n",
              "      <td>0</td>\n",
              "      <td>0</td>\n",
              "      <td>1</td>\n",
              "      <td>0</td>\n",
              "      <td>1</td>\n",
              "      <td>0</td>\n",
              "      <td>0</td>\n",
              "      <td>1</td>\n",
              "      <td>0</td>\n",
              "    </tr>\n",
              "    <tr>\n",
              "      <th>274</th>\n",
              "      <td>0.554054</td>\n",
              "      <td>1</td>\n",
              "      <td>0</td>\n",
              "      <td>0</td>\n",
              "      <td>0</td>\n",
              "      <td>0</td>\n",
              "      <td>1</td>\n",
              "      <td>0</td>\n",
              "      <td>1</td>\n",
              "      <td>0</td>\n",
              "      <td>0</td>\n",
              "      <td>0</td>\n",
              "      <td>0</td>\n",
              "      <td>1</td>\n",
              "      <td>0</td>\n",
              "      <td>0</td>\n",
              "    </tr>\n",
              "    <tr>\n",
              "      <th>424</th>\n",
              "      <td>0.364865</td>\n",
              "      <td>1</td>\n",
              "      <td>1</td>\n",
              "      <td>1</td>\n",
              "      <td>1</td>\n",
              "      <td>1</td>\n",
              "      <td>0</td>\n",
              "      <td>1</td>\n",
              "      <td>0</td>\n",
              "      <td>0</td>\n",
              "      <td>0</td>\n",
              "      <td>0</td>\n",
              "      <td>0</td>\n",
              "      <td>0</td>\n",
              "      <td>0</td>\n",
              "      <td>0</td>\n",
              "    </tr>\n",
              "    <tr>\n",
              "      <th>316</th>\n",
              "      <td>0.527027</td>\n",
              "      <td>0</td>\n",
              "      <td>0</td>\n",
              "      <td>0</td>\n",
              "      <td>0</td>\n",
              "      <td>1</td>\n",
              "      <td>0</td>\n",
              "      <td>1</td>\n",
              "      <td>0</td>\n",
              "      <td>1</td>\n",
              "      <td>0</td>\n",
              "      <td>1</td>\n",
              "      <td>1</td>\n",
              "      <td>0</td>\n",
              "      <td>1</td>\n",
              "      <td>0</td>\n",
              "    </tr>\n",
              "    <tr>\n",
              "      <th>159</th>\n",
              "      <td>0.297297</td>\n",
              "      <td>0</td>\n",
              "      <td>1</td>\n",
              "      <td>1</td>\n",
              "      <td>1</td>\n",
              "      <td>1</td>\n",
              "      <td>1</td>\n",
              "      <td>0</td>\n",
              "      <td>1</td>\n",
              "      <td>1</td>\n",
              "      <td>1</td>\n",
              "      <td>1</td>\n",
              "      <td>1</td>\n",
              "      <td>1</td>\n",
              "      <td>0</td>\n",
              "      <td>0</td>\n",
              "    </tr>\n",
              "  </tbody>\n",
              "</table>\n",
              "</div>\n",
              "      <button class=\"colab-df-convert\" onclick=\"convertToInteractive('df-80affe52-ba78-4fe5-87ea-41f9eca0eb45')\"\n",
              "              title=\"Convert this dataframe to an interactive table.\"\n",
              "              style=\"display:none;\">\n",
              "        \n",
              "  <svg xmlns=\"http://www.w3.org/2000/svg\" height=\"24px\"viewBox=\"0 0 24 24\"\n",
              "       width=\"24px\">\n",
              "    <path d=\"M0 0h24v24H0V0z\" fill=\"none\"/>\n",
              "    <path d=\"M18.56 5.44l.94 2.06.94-2.06 2.06-.94-2.06-.94-.94-2.06-.94 2.06-2.06.94zm-11 1L8.5 8.5l.94-2.06 2.06-.94-2.06-.94L8.5 2.5l-.94 2.06-2.06.94zm10 10l.94 2.06.94-2.06 2.06-.94-2.06-.94-.94-2.06-.94 2.06-2.06.94z\"/><path d=\"M17.41 7.96l-1.37-1.37c-.4-.4-.92-.59-1.43-.59-.52 0-1.04.2-1.43.59L10.3 9.45l-7.72 7.72c-.78.78-.78 2.05 0 2.83L4 21.41c.39.39.9.59 1.41.59.51 0 1.02-.2 1.41-.59l7.78-7.78 2.81-2.81c.8-.78.8-2.07 0-2.86zM5.41 20L4 18.59l7.72-7.72 1.47 1.35L5.41 20z\"/>\n",
              "  </svg>\n",
              "      </button>\n",
              "      \n",
              "  <style>\n",
              "    .colab-df-container {\n",
              "      display:flex;\n",
              "      flex-wrap:wrap;\n",
              "      gap: 12px;\n",
              "    }\n",
              "\n",
              "    .colab-df-convert {\n",
              "      background-color: #E8F0FE;\n",
              "      border: none;\n",
              "      border-radius: 50%;\n",
              "      cursor: pointer;\n",
              "      display: none;\n",
              "      fill: #1967D2;\n",
              "      height: 32px;\n",
              "      padding: 0 0 0 0;\n",
              "      width: 32px;\n",
              "    }\n",
              "\n",
              "    .colab-df-convert:hover {\n",
              "      background-color: #E2EBFA;\n",
              "      box-shadow: 0px 1px 2px rgba(60, 64, 67, 0.3), 0px 1px 3px 1px rgba(60, 64, 67, 0.15);\n",
              "      fill: #174EA6;\n",
              "    }\n",
              "\n",
              "    [theme=dark] .colab-df-convert {\n",
              "      background-color: #3B4455;\n",
              "      fill: #D2E3FC;\n",
              "    }\n",
              "\n",
              "    [theme=dark] .colab-df-convert:hover {\n",
              "      background-color: #434B5C;\n",
              "      box-shadow: 0px 1px 3px 1px rgba(0, 0, 0, 0.15);\n",
              "      filter: drop-shadow(0px 1px 2px rgba(0, 0, 0, 0.3));\n",
              "      fill: #FFFFFF;\n",
              "    }\n",
              "  </style>\n",
              "\n",
              "      <script>\n",
              "        const buttonEl =\n",
              "          document.querySelector('#df-80affe52-ba78-4fe5-87ea-41f9eca0eb45 button.colab-df-convert');\n",
              "        buttonEl.style.display =\n",
              "          google.colab.kernel.accessAllowed ? 'block' : 'none';\n",
              "\n",
              "        async function convertToInteractive(key) {\n",
              "          const element = document.querySelector('#df-80affe52-ba78-4fe5-87ea-41f9eca0eb45');\n",
              "          const dataTable =\n",
              "            await google.colab.kernel.invokeFunction('convertToInteractive',\n",
              "                                                     [key], {});\n",
              "          if (!dataTable) return;\n",
              "\n",
              "          const docLinkHtml = 'Like what you see? Visit the ' +\n",
              "            '<a target=\"_blank\" href=https://colab.research.google.com/notebooks/data_table.ipynb>data table notebook</a>'\n",
              "            + ' to learn more about interactive tables.';\n",
              "          element.innerHTML = '';\n",
              "          dataTable['output_type'] = 'display_data';\n",
              "          await google.colab.output.renderOutput(dataTable, element);\n",
              "          const docLink = document.createElement('div');\n",
              "          docLink.innerHTML = docLinkHtml;\n",
              "          element.appendChild(docLink);\n",
              "        }\n",
              "      </script>\n",
              "    </div>\n",
              "  </div>\n",
              "  "
            ]
          },
          "metadata": {},
          "execution_count": 38
        }
      ],
      "source": [
        "minmax = MinMaxScaler()\n",
        "X_train[['Age']] = minmax.fit_transform(X_train[['Age']])\n",
        "X_test[['Age']] = minmax.transform(X_test[['Age']])\n",
        "X_train.head()"
      ]
    },
    {
      "cell_type": "markdown",
      "metadata": {
        "id": "8480PutfoPgA"
      },
      "source": [
        "Model Building\n",
        "\n",
        "Logistic Regression"
      ]
    },
    {
      "cell_type": "code",
      "execution_count": null,
      "metadata": {
        "colab": {
          "base_uri": "https://localhost:8080/"
        },
        "id": "7C4SkewqoOJE",
        "outputId": "91d9c37f-c45d-4013-e538-35654d4b0312"
      },
      "outputs": [
        {
          "output_type": "execute_result",
          "data": {
            "text/plain": [
              "LogisticRegression(random_state=0)"
            ]
          },
          "metadata": {},
          "execution_count": 39
        }
      ],
      "source": [
        "logi = LogisticRegression(random_state = 0, penalty = 'l2')\n",
        "logi.fit(X_train, y_train)\n"
      ]
    },
    {
      "cell_type": "code",
      "execution_count": null,
      "metadata": {
        "colab": {
          "base_uri": "https://localhost:8080/"
        },
        "id": "R2URxto8oOXN",
        "outputId": "33cb508f-fcf8-4d26-d891-bdd4342f3b97"
      },
      "outputs": [
        {
          "output_type": "execute_result",
          "data": {
            "text/plain": [
              "0.913240418118467"
            ]
          },
          "metadata": {},
          "execution_count": 40
        }
      ],
      "source": [
        "from sklearn import model_selection\n",
        "kfold = model_selection.KFold(n_splits=10, random_state=7,shuffle=True)\n",
        "scoring = 'accuracy'\n",
        "acc_logi = cross_val_score(estimator = logi, X = X_train, y = y_train, cv = kfold,scoring=scoring)\n",
        "acc_logi.mean()"
      ]
    },
    {
      "cell_type": "code",
      "execution_count": null,
      "metadata": {
        "id": "81nhltx8pO9O"
      },
      "outputs": [],
      "source": [
        "y_predict_logi = logi.predict(X_test)\n",
        "acc= accuracy_score(y_test, y_predict_logi)\n",
        "roc=roc_auc_score(y_test, y_predict_logi)\n",
        "prec = precision_score(y_test, y_predict_logi)\n",
        "rec = recall_score(y_test, y_predict_logi)\n",
        "f1 = f1_score(y_test, y_predict_logi)\n",
        "model_results = pd.DataFrame([['Logistic Regression',acc, acc_logi.mean(),prec,rec, f1,roc]],\n",
        "               columns = ['Model', 'Accuracy','Cross Val Accuracy', 'Precision', 'Recall', 'F1 Score','ROC'])\n",
        "\n"
      ]
    },
    {
      "cell_type": "code",
      "source": [
        "print(\"Accuracy:\",acc)\n",
        "print(\"Precision:\",prec)\n",
        "print(\"Recall score:\",rec)\n",
        "print(\"f1 score:\",f1)"
      ],
      "metadata": {
        "colab": {
          "base_uri": "https://localhost:8080/"
        },
        "id": "YVj9DNHUjZLx",
        "outputId": "ed203451-577b-4277-aeca-720036536e48"
      },
      "execution_count": null,
      "outputs": [
        {
          "output_type": "stream",
          "name": "stdout",
          "text": [
            "Accuracy: 0.9711538461538461\n",
            "Precision: 0.9841269841269841\n",
            "Recall score: 0.96875\n",
            "f1 score: 0.9763779527559054\n"
          ]
        }
      ]
    },
    {
      "cell_type": "code",
      "execution_count": null,
      "metadata": {
        "colab": {
          "base_uri": "https://localhost:8080/",
          "height": 281
        },
        "id": "LfRth8YlpPKZ",
        "outputId": "a9226736-b17e-46a7-bd29-661031a7463f"
      },
      "outputs": [
        {
          "output_type": "display_data",
          "data": {
            "text/plain": [
              "<Figure size 432x288 with 2 Axes>"
            ],
            "image/png": "[encoded data removed]"
          },
          "metadata": {
            "needs_background": "light"
          }
        }
      ],
      "source": [
        "cm_logi = confusion_matrix(y_test, y_predict_logi)\n",
        "plt.title('Confusion matrix of the Logistic classifier')\n",
        "sns.heatmap(cm_logi,annot=True,fmt=\"d\")\n",
        "plt.show()"
      ]
    },
    {
      "cell_type": "markdown",
      "metadata": {
        "id": "IolPe9ipqF-S"
      },
      "source": [
        "## **2 Random** **Forest**"
      ]
    },
    {
      "cell_type": "code",
      "execution_count": null,
      "metadata": {
        "colab": {
          "base_uri": "https://localhost:8080/"
        },
        "id": "vBdrGiSJpZqP",
        "outputId": "9130c524-c81a-4db5-b802-c53c9655dad7"
      },
      "outputs": [
        {
          "output_type": "execute_result",
          "data": {
            "text/plain": [
              "RandomForestClassifier()"
            ]
          },
          "metadata": {},
          "execution_count": 44
        }
      ],
      "source": [
        "rf = RandomForestClassifier(criterion='gini',n_estimators=100)\n",
        "rf.fit(X_train,y_train)"
      ]
    },
    {
      "cell_type": "code",
      "execution_count": null,
      "metadata": {
        "colab": {
          "base_uri": "https://localhost:8080/"
        },
        "id": "UX_Sj_YCpZsx",
        "outputId": "4444cb35-231a-4548-90c9-6f798249adcf"
      },
      "outputs": [
        {
          "output_type": "execute_result",
          "data": {
            "text/plain": [
              "0.971138211382114"
            ]
          },
          "metadata": {},
          "execution_count": 45
        }
      ],
      "source": [
        "kfold = model_selection.KFold(n_splits=10, random_state=7,shuffle=True)\n",
        "scoring = 'accuracy'\n",
        "acc_rf = cross_val_score(estimator = rf, X = X_train, y = y_train, cv = kfold,scoring=scoring)\n",
        "acc_rf.mean()"
      ]
    },
    {
      "cell_type": "code",
      "execution_count": null,
      "metadata": {
        "id": "zUL1ALyTpZvv"
      },
      "outputs": [],
      "source": [
        "y_predict_r = rf.predict(X_test)\n",
        "roc=roc_auc_score(y_test, y_predict_r)\n",
        "acc = accuracy_score(y_test, y_predict_r)\n",
        "prec = precision_score(y_test, y_predict_r)\n",
        "rec = recall_score(y_test, y_predict_r)\n",
        "f1 = f1_score(y_test, y_predict_r)\n",
        "model_results = pd.DataFrame([['Random Forest',acc, acc_rf.mean(),prec,rec, f1,roc]],columns = ['Model', 'Accuracy','Cross Val Accuracy', 'Precision', 'Recall', 'F1 Score','ROC'])"
      ]
    },
    {
      "cell_type": "code",
      "source": [
        "print(\"Accuracy:\",acc)\n",
        "print(\"Precision:\",prec)\n",
        "print(\"Recall score:\",rec)\n",
        "print(\"f1 score:\",f1)"
      ],
      "metadata": {
        "colab": {
          "base_uri": "https://localhost:8080/"
        },
        "id": "Rw_ek5UBh0eg",
        "outputId": "ad0b1389-d30d-48c0-8941-5a34f3f8c3d5"
      },
      "execution_count": null,
      "outputs": [
        {
          "output_type": "stream",
          "name": "stdout",
          "text": [
            "Accuracy: 0.9807692307692307\n",
            "Precision: 1.0\n",
            "Recall score: 0.96875\n",
            "f1 score: 0.9841269841269841\n"
          ]
        }
      ]
    },
    {
      "cell_type": "code",
      "execution_count": null,
      "metadata": {
        "colab": {
          "base_uri": "https://localhost:8080/",
          "height": 281
        },
        "id": "FQ4gO5LMpZyR",
        "outputId": "c146d8b3-4d22-4057-ffe4-df13597d62f3"
      },
      "outputs": [
        {
          "output_type": "display_data",
          "data": {
            "text/plain": [
              "<Figure size 432x288 with 2 Axes>"
            ],
            "image/png": "[encoded data removed]"
          },
          "metadata": {
            "needs_background": "light"
          }
        }
      ],
      "source": [
        "cm_rf = confusion_matrix(y_test, y_predict_r)\n",
        "plt.title('Confusion matrix of the Random Forest classifier')\n",
        "sns.heatmap(cm_rf,annot=True,fmt=\"d\")\n",
        "plt.show()"
      ]
    },
    {
      "cell_type": "code",
      "execution_count": null,
      "metadata": {
        "colab": {
          "base_uri": "https://localhost:8080/"
        },
        "id": "6OoB3gxjqyER",
        "outputId": "116d43e9-c907-414a-f20f-0c3296389ea1"
      },
      "outputs": [
        {
          "output_type": "execute_result",
          "data": {
            "text/plain": [
              "1.0"
            ]
          },
          "metadata": {},
          "execution_count": 49
        }
      ],
      "source": [
        "TP = cm_rf[1,1]\n",
        "TN = cm_rf[0,0]\n",
        "FP = cm_rf[0,1]\n",
        "FN = cm_rf[1,0]\n",
        "# Let us calculate specificity\n",
        "TN / float(TN+FP)"
      ]
    },
    {
      "cell_type": "code",
      "execution_count": null,
      "metadata": {
        "id": "jqGzpMG3Phue"
      },
      "outputs": [],
      "source": [
        "from keras.models import Sequential\n",
        "from keras.layers import Dense\n",
        "from keras import optimizers\n",
        "from sklearn.model_selection import cross_val_score"
      ]
    },
    {
      "cell_type": "code",
      "execution_count": null,
      "metadata": {
        "id": "ZuFuwJayPhxZ"
      },
      "outputs": [],
      "source": [
        "hidden_units=100\n",
        "learning_rate=0.01\n",
        "hidden_layer_act='tanh'\n",
        "output_layer_act='sigmoid'\n",
        "no_epochs=200\n",
        "x1=X_train\n",
        "y1=y_train"
      ]
    },
    {
      "cell_type": "code",
      "execution_count": null,
      "metadata": {
        "id": "TJiChrycPh0O"
      },
      "outputs": [],
      "source": [
        "model = Sequential()\n",
        "model.add(Dense(hidden_units, input_dim=16, activation=hidden_layer_act))\n",
        "model.add(Dense(hidden_units, activation=hidden_layer_act))\n",
        "model.add(Dense(1, activation=output_layer_act))\n",
        "sgd=optimizers.SGD(lr=learning_rate)\n",
        "model.compile(loss='binary_crossentropy',optimizer='adam', metrics=['acc'])\n"
      ]
    },
    {
      "cell_type": "code",
      "execution_count": null,
      "metadata": {
        "colab": {
          "base_uri": "https://localhost:8080/"
        },
        "id": "IEZFieMpPh2v",
        "outputId": "9c07aba4-783f-43ef-ff66-e97e120eb03b"
      },
      "outputs": [
        {
          "output_type": "stream",
          "name": "stdout",
          "text": [
            "Epoch 1/200\n",
            "1/1 - 1s - loss: 0.6955 - acc: 0.5649 - 792ms/epoch - 792ms/step\n",
            "Epoch 2/200\n",
            "1/1 - 0s - loss: 0.6438 - acc: 0.5986 - 11ms/epoch - 11ms/step\n",
            "Epoch 3/200\n",
            "1/1 - 0s - loss: 0.5995 - acc: 0.6202 - 12ms/epoch - 12ms/step\n",
            "Epoch 4/200\n",
            "1/1 - 0s - loss: 0.5599 - acc: 0.6370 - 10ms/epoch - 10ms/step\n",
            "Epoch 5/200\n",
            "1/1 - 0s - loss: 0.5239 - acc: 0.7428 - 10ms/epoch - 10ms/step\n",
            "Epoch 6/200\n",
            "1/1 - 0s - loss: 0.4910 - acc: 0.7885 - 8ms/epoch - 8ms/step\n",
            "Epoch 7/200\n",
            "1/1 - 0s - loss: 0.4609 - acc: 0.8173 - 9ms/epoch - 9ms/step\n",
            "Epoch 8/200\n",
            "1/1 - 0s - loss: 0.4338 - acc: 0.8149 - 9ms/epoch - 9ms/step\n",
            "Epoch 9/200\n",
            "1/1 - 0s - loss: 0.4095 - acc: 0.8293 - 17ms/epoch - 17ms/step\n",
            "Epoch 10/200\n",
            "1/1 - 0s - loss: 0.3879 - acc: 0.8726 - 11ms/epoch - 11ms/step\n",
            "Epoch 11/200\n",
            "1/1 - 0s - loss: 0.3686 - acc: 0.8822 - 9ms/epoch - 9ms/step\n",
            "Epoch 12/200\n",
            "1/1 - 0s - loss: 0.3514 - acc: 0.8822 - 9ms/epoch - 9ms/step\n",
            "Epoch 13/200\n",
            "1/1 - 0s - loss: 0.3359 - acc: 0.8846 - 8ms/epoch - 8ms/step\n",
            "Epoch 14/200\n",
            "1/1 - 0s - loss: 0.3219 - acc: 0.8822 - 9ms/epoch - 9ms/step\n",
            "Epoch 15/200\n",
            "1/1 - 0s - loss: 0.3093 - acc: 0.8894 - 9ms/epoch - 9ms/step\n",
            "Epoch 16/200\n",
            "1/1 - 0s - loss: 0.2979 - acc: 0.8894 - 8ms/epoch - 8ms/step\n",
            "Epoch 17/200\n",
            "1/1 - 0s - loss: 0.2876 - acc: 0.8894 - 8ms/epoch - 8ms/step\n",
            "Epoch 18/200\n",
            "1/1 - 0s - loss: 0.2785 - acc: 0.8894 - 8ms/epoch - 8ms/step\n",
            "Epoch 19/200\n",
            "1/1 - 0s - loss: 0.2703 - acc: 0.8894 - 8ms/epoch - 8ms/step\n",
            "Epoch 20/200\n",
            "1/1 - 0s - loss: 0.2630 - acc: 0.8942 - 9ms/epoch - 9ms/step\n",
            "Epoch 21/200\n",
            "1/1 - 0s - loss: 0.2565 - acc: 0.8990 - 10ms/epoch - 10ms/step\n",
            "Epoch 22/200\n",
            "1/1 - 0s - loss: 0.2506 - acc: 0.8990 - 8ms/epoch - 8ms/step\n",
            "Epoch 23/200\n",
            "1/1 - 0s - loss: 0.2452 - acc: 0.8894 - 9ms/epoch - 9ms/step\n",
            "Epoch 24/200\n",
            "1/1 - 0s - loss: 0.2404 - acc: 0.8966 - 10ms/epoch - 10ms/step\n",
            "Epoch 25/200\n",
            "1/1 - 0s - loss: 0.2361 - acc: 0.8966 - 8ms/epoch - 8ms/step\n",
            "Epoch 26/200\n",
            "1/1 - 0s - loss: 0.2322 - acc: 0.8990 - 9ms/epoch - 9ms/step\n",
            "Epoch 27/200\n",
            "1/1 - 0s - loss: 0.2286 - acc: 0.8990 - 9ms/epoch - 9ms/step\n",
            "Epoch 28/200\n",
            "1/1 - 0s - loss: 0.2255 - acc: 0.8990 - 8ms/epoch - 8ms/step\n",
            "Epoch 29/200\n",
            "1/1 - 0s - loss: 0.2225 - acc: 0.8990 - 9ms/epoch - 9ms/step\n",
            "Epoch 30/200\n",
            "1/1 - 0s - loss: 0.2198 - acc: 0.9038 - 9ms/epoch - 9ms/step\n",
            "Epoch 31/200\n",
            "1/1 - 0s - loss: 0.2173 - acc: 0.9135 - 10ms/epoch - 10ms/step\n",
            "Epoch 32/200\n",
            "1/1 - 0s - loss: 0.2150 - acc: 0.9159 - 10ms/epoch - 10ms/step\n",
            "Epoch 33/200\n",
            "1/1 - 0s - loss: 0.2129 - acc: 0.9207 - 9ms/epoch - 9ms/step\n",
            "Epoch 34/200\n",
            "1/1 - 0s - loss: 0.2108 - acc: 0.9207 - 9ms/epoch - 9ms/step\n",
            "Epoch 35/200\n",
            "1/1 - 0s - loss: 0.2089 - acc: 0.9207 - 14ms/epoch - 14ms/step\n",
            "Epoch 36/200\n",
            "1/1 - 0s - loss: 0.2071 - acc: 0.9207 - 12ms/epoch - 12ms/step\n",
            "Epoch 37/200\n",
            "1/1 - 0s - loss: 0.2054 - acc: 0.9207 - 8ms/epoch - 8ms/step\n",
            "Epoch 38/200\n",
            "1/1 - 0s - loss: 0.2038 - acc: 0.9183 - 9ms/epoch - 9ms/step\n",
            "Epoch 39/200\n",
            "1/1 - 0s - loss: 0.2022 - acc: 0.9159 - 16ms/epoch - 16ms/step\n",
            "Epoch 40/200\n",
            "1/1 - 0s - loss: 0.2006 - acc: 0.9159 - 8ms/epoch - 8ms/step\n",
            "Epoch 41/200\n",
            "1/1 - 0s - loss: 0.1991 - acc: 0.9159 - 10ms/epoch - 10ms/step\n",
            "Epoch 42/200\n",
            "1/1 - 0s - loss: 0.1977 - acc: 0.9159 - 9ms/epoch - 9ms/step\n",
            "Epoch 43/200\n",
            "1/1 - 0s - loss: 0.1964 - acc: 0.9159 - 11ms/epoch - 11ms/step\n",
            "Epoch 44/200\n",
            "1/1 - 0s - loss: 0.1950 - acc: 0.9159 - 9ms/epoch - 9ms/step\n",
            "Epoch 45/200\n",
            "1/1 - 0s - loss: 0.1938 - acc: 0.9159 - 7ms/epoch - 7ms/step\n",
            "Epoch 46/200\n",
            "1/1 - 0s - loss: 0.1925 - acc: 0.9159 - 9ms/epoch - 9ms/step\n",
            "Epoch 47/200\n",
            "1/1 - 0s - loss: 0.1914 - acc: 0.9159 - 10ms/epoch - 10ms/step\n",
            "Epoch 48/200\n",
            "1/1 - 0s - loss: 0.1902 - acc: 0.9159 - 10ms/epoch - 10ms/step\n",
            "Epoch 49/200\n",
            "1/1 - 0s - loss: 0.1891 - acc: 0.9159 - 8ms/epoch - 8ms/step\n",
            "Epoch 50/200\n",
            "1/1 - 0s - loss: 0.1881 - acc: 0.9183 - 8ms/epoch - 8ms/step\n",
            "Epoch 51/200\n",
            "1/1 - 0s - loss: 0.1871 - acc: 0.9183 - 8ms/epoch - 8ms/step\n",
            "Epoch 52/200\n",
            "1/1 - 0s - loss: 0.1861 - acc: 0.9183 - 8ms/epoch - 8ms/step\n",
            "Epoch 53/200\n",
            "1/1 - 0s - loss: 0.1851 - acc: 0.9183 - 10ms/epoch - 10ms/step\n",
            "Epoch 54/200\n",
            "1/1 - 0s - loss: 0.1842 - acc: 0.9135 - 12ms/epoch - 12ms/step\n",
            "Epoch 55/200\n",
            "1/1 - 0s - loss: 0.1834 - acc: 0.9207 - 9ms/epoch - 9ms/step\n",
            "Epoch 56/200\n",
            "1/1 - 0s - loss: 0.1825 - acc: 0.9207 - 7ms/epoch - 7ms/step\n",
            "Epoch 57/200\n",
            "1/1 - 0s - loss: 0.1817 - acc: 0.9231 - 9ms/epoch - 9ms/step\n",
            "Epoch 58/200\n",
            "1/1 - 0s - loss: 0.1809 - acc: 0.9231 - 10ms/epoch - 10ms/step\n",
            "Epoch 59/200\n",
            "1/1 - 0s - loss: 0.1802 - acc: 0.9231 - 14ms/epoch - 14ms/step\n",
            "Epoch 60/200\n",
            "1/1 - 0s - loss: 0.1795 - acc: 0.9231 - 9ms/epoch - 9ms/step\n",
            "Epoch 61/200\n",
            "1/1 - 0s - loss: 0.1788 - acc: 0.9231 - 8ms/epoch - 8ms/step\n",
            "Epoch 62/200\n",
            "1/1 - 0s - loss: 0.1781 - acc: 0.9231 - 7ms/epoch - 7ms/step\n",
            "Epoch 63/200\n",
            "1/1 - 0s - loss: 0.1775 - acc: 0.9231 - 10ms/epoch - 10ms/step\n",
            "Epoch 64/200\n",
            "1/1 - 0s - loss: 0.1769 - acc: 0.9255 - 9ms/epoch - 9ms/step\n",
            "Epoch 65/200\n",
            "1/1 - 0s - loss: 0.1763 - acc: 0.9255 - 9ms/epoch - 9ms/step\n",
            "Epoch 66/200\n",
            "1/1 - 0s - loss: 0.1757 - acc: 0.9255 - 9ms/epoch - 9ms/step\n",
            "Epoch 67/200\n",
            "1/1 - 0s - loss: 0.1752 - acc: 0.9255 - 10ms/epoch - 10ms/step\n",
            "Epoch 68/200\n",
            "1/1 - 0s - loss: 0.1746 - acc: 0.9255 - 9ms/epoch - 9ms/step\n",
            "Epoch 69/200\n",
            "1/1 - 0s - loss: 0.1741 - acc: 0.9255 - 15ms/epoch - 15ms/step\n",
            "Epoch 70/200\n",
            "1/1 - 0s - loss: 0.1736 - acc: 0.9255 - 11ms/epoch - 11ms/step\n",
            "Epoch 71/200\n",
            "1/1 - 0s - loss: 0.1731 - acc: 0.9255 - 8ms/epoch - 8ms/step\n",
            "Epoch 72/200\n",
            "1/1 - 0s - loss: 0.1726 - acc: 0.9255 - 9ms/epoch - 9ms/step\n",
            "Epoch 73/200\n",
            "1/1 - 0s - loss: 0.1721 - acc: 0.9255 - 10ms/epoch - 10ms/step\n",
            "Epoch 74/200\n",
            "1/1 - 0s - loss: 0.1716 - acc: 0.9255 - 11ms/epoch - 11ms/step\n",
            "Epoch 75/200\n",
            "1/1 - 0s - loss: 0.1711 - acc: 0.9255 - 10ms/epoch - 10ms/step\n",
            "Epoch 76/200\n",
            "1/1 - 0s - loss: 0.1706 - acc: 0.9255 - 9ms/epoch - 9ms/step\n",
            "Epoch 77/200\n",
            "1/1 - 0s - loss: 0.1701 - acc: 0.9255 - 8ms/epoch - 8ms/step\n",
            "Epoch 78/200\n",
            "1/1 - 0s - loss: 0.1697 - acc: 0.9255 - 9ms/epoch - 9ms/step\n",
            "Epoch 79/200\n",
            "1/1 - 0s - loss: 0.1692 - acc: 0.9255 - 9ms/epoch - 9ms/step\n",
            "Epoch 80/200\n",
            "1/1 - 0s - loss: 0.1687 - acc: 0.9255 - 8ms/epoch - 8ms/step\n",
            "Epoch 81/200\n",
            "1/1 - 0s - loss: 0.1683 - acc: 0.9255 - 8ms/epoch - 8ms/step\n",
            "Epoch 82/200\n",
            "1/1 - 0s - loss: 0.1678 - acc: 0.9255 - 9ms/epoch - 9ms/step\n",
            "Epoch 83/200\n",
            "1/1 - 0s - loss: 0.1673 - acc: 0.9255 - 10ms/epoch - 10ms/step\n",
            "Epoch 84/200\n",
            "1/1 - 0s - loss: 0.1669 - acc: 0.9255 - 8ms/epoch - 8ms/step\n",
            "Epoch 85/200\n",
            "1/1 - 0s - loss: 0.1664 - acc: 0.9255 - 9ms/epoch - 9ms/step\n",
            "Epoch 86/200\n",
            "1/1 - 0s - loss: 0.1659 - acc: 0.9255 - 8ms/epoch - 8ms/step\n",
            "Epoch 87/200\n",
            "1/1 - 0s - loss: 0.1654 - acc: 0.9255 - 11ms/epoch - 11ms/step\n",
            "Epoch 88/200\n",
            "1/1 - 0s - loss: 0.1650 - acc: 0.9255 - 9ms/epoch - 9ms/step\n",
            "Epoch 89/200\n",
            "1/1 - 0s - loss: 0.1645 - acc: 0.9255 - 9ms/epoch - 9ms/step\n",
            "Epoch 90/200\n",
            "1/1 - 0s - loss: 0.1640 - acc: 0.9255 - 11ms/epoch - 11ms/step\n",
            "Epoch 91/200\n",
            "1/1 - 0s - loss: 0.1635 - acc: 0.9255 - 10ms/epoch - 10ms/step\n",
            "Epoch 92/200\n",
            "1/1 - 0s - loss: 0.1631 - acc: 0.9255 - 10ms/epoch - 10ms/step\n",
            "Epoch 93/200\n",
            "1/1 - 0s - loss: 0.1626 - acc: 0.9255 - 10ms/epoch - 10ms/step\n",
            "Epoch 94/200\n",
            "1/1 - 0s - loss: 0.1621 - acc: 0.9255 - 9ms/epoch - 9ms/step\n",
            "Epoch 95/200\n",
            "1/1 - 0s - loss: 0.1616 - acc: 0.9255 - 10ms/epoch - 10ms/step\n",
            "Epoch 96/200\n",
            "1/1 - 0s - loss: 0.1611 - acc: 0.9255 - 11ms/epoch - 11ms/step\n",
            "Epoch 97/200\n",
            "1/1 - 0s - loss: 0.1606 - acc: 0.9231 - 10ms/epoch - 10ms/step\n",
            "Epoch 98/200\n",
            "1/1 - 0s - loss: 0.1601 - acc: 0.9231 - 10ms/epoch - 10ms/step\n",
            "Epoch 99/200\n",
            "1/1 - 0s - loss: 0.1596 - acc: 0.9231 - 11ms/epoch - 11ms/step\n",
            "Epoch 100/200\n",
            "1/1 - 0s - loss: 0.1591 - acc: 0.9231 - 15ms/epoch - 15ms/step\n",
            "Epoch 101/200\n",
            "1/1 - 0s - loss: 0.1586 - acc: 0.9231 - 8ms/epoch - 8ms/step\n",
            "Epoch 102/200\n",
            "1/1 - 0s - loss: 0.1580 - acc: 0.9231 - 9ms/epoch - 9ms/step\n",
            "Epoch 103/200\n",
            "1/1 - 0s - loss: 0.1575 - acc: 0.9231 - 9ms/epoch - 9ms/step\n",
            "Epoch 104/200\n",
            "1/1 - 0s - loss: 0.1570 - acc: 0.9231 - 8ms/epoch - 8ms/step\n",
            "Epoch 105/200\n",
            "1/1 - 0s - loss: 0.1564 - acc: 0.9231 - 7ms/epoch - 7ms/step\n",
            "Epoch 106/200\n",
            "1/1 - 0s - loss: 0.1559 - acc: 0.9231 - 8ms/epoch - 8ms/step\n",
            "Epoch 107/200\n",
            "1/1 - 0s - loss: 0.1553 - acc: 0.9231 - 9ms/epoch - 9ms/step\n",
            "Epoch 108/200\n",
            "1/1 - 0s - loss: 0.1547 - acc: 0.9231 - 10ms/epoch - 10ms/step\n",
            "Epoch 109/200\n",
            "1/1 - 0s - loss: 0.1542 - acc: 0.9231 - 9ms/epoch - 9ms/step\n",
            "Epoch 110/200\n",
            "1/1 - 0s - loss: 0.1536 - acc: 0.9231 - 10ms/epoch - 10ms/step\n",
            "Epoch 111/200\n",
            "1/1 - 0s - loss: 0.1530 - acc: 0.9231 - 11ms/epoch - 11ms/step\n",
            "Epoch 112/200\n",
            "1/1 - 0s - loss: 0.1524 - acc: 0.9231 - 9ms/epoch - 9ms/step\n",
            "Epoch 113/200\n",
            "1/1 - 0s - loss: 0.1518 - acc: 0.9231 - 10ms/epoch - 10ms/step\n",
            "Epoch 114/200\n",
            "1/1 - 0s - loss: 0.1512 - acc: 0.9279 - 11ms/epoch - 11ms/step\n",
            "Epoch 115/200\n",
            "1/1 - 0s - loss: 0.1506 - acc: 0.9351 - 8ms/epoch - 8ms/step\n",
            "Epoch 116/200\n",
            "1/1 - 0s - loss: 0.1500 - acc: 0.9351 - 10ms/epoch - 10ms/step\n",
            "Epoch 117/200\n",
            "1/1 - 0s - loss: 0.1493 - acc: 0.9351 - 9ms/epoch - 9ms/step\n",
            "Epoch 118/200\n",
            "1/1 - 0s - loss: 0.1487 - acc: 0.9351 - 10ms/epoch - 10ms/step\n",
            "Epoch 119/200\n",
            "1/1 - 0s - loss: 0.1481 - acc: 0.9351 - 10ms/epoch - 10ms/step\n",
            "Epoch 120/200\n",
            "1/1 - 0s - loss: 0.1474 - acc: 0.9351 - 10ms/epoch - 10ms/step\n",
            "Epoch 121/200\n",
            "1/1 - 0s - loss: 0.1467 - acc: 0.9351 - 9ms/epoch - 9ms/step\n",
            "Epoch 122/200\n",
            "1/1 - 0s - loss: 0.1461 - acc: 0.9351 - 10ms/epoch - 10ms/step\n",
            "Epoch 123/200\n",
            "1/1 - 0s - loss: 0.1454 - acc: 0.9375 - 10ms/epoch - 10ms/step\n",
            "Epoch 124/200\n",
            "1/1 - 0s - loss: 0.1447 - acc: 0.9375 - 10ms/epoch - 10ms/step\n",
            "Epoch 125/200\n",
            "1/1 - 0s - loss: 0.1440 - acc: 0.9447 - 11ms/epoch - 11ms/step\n",
            "Epoch 126/200\n",
            "1/1 - 0s - loss: 0.1433 - acc: 0.9447 - 10ms/epoch - 10ms/step\n",
            "Epoch 127/200\n",
            "1/1 - 0s - loss: 0.1426 - acc: 0.9447 - 13ms/epoch - 13ms/step\n",
            "Epoch 128/200\n",
            "1/1 - 0s - loss: 0.1419 - acc: 0.9447 - 7ms/epoch - 7ms/step\n",
            "Epoch 129/200\n",
            "1/1 - 0s - loss: 0.1411 - acc: 0.9447 - 7ms/epoch - 7ms/step\n",
            "Epoch 130/200\n",
            "1/1 - 0s - loss: 0.1404 - acc: 0.9447 - 7ms/epoch - 7ms/step\n",
            "Epoch 131/200\n",
            "1/1 - 0s - loss: 0.1396 - acc: 0.9447 - 7ms/epoch - 7ms/step\n",
            "Epoch 132/200\n",
            "1/1 - 0s - loss: 0.1389 - acc: 0.9447 - 7ms/epoch - 7ms/step\n",
            "Epoch 133/200\n",
            "1/1 - 0s - loss: 0.1381 - acc: 0.9519 - 7ms/epoch - 7ms/step\n",
            "Epoch 134/200\n",
            "1/1 - 0s - loss: 0.1374 - acc: 0.9519 - 8ms/epoch - 8ms/step\n",
            "Epoch 135/200\n",
            "1/1 - 0s - loss: 0.1366 - acc: 0.9519 - 9ms/epoch - 9ms/step\n",
            "Epoch 136/200\n",
            "1/1 - 0s - loss: 0.1358 - acc: 0.9519 - 8ms/epoch - 8ms/step\n",
            "Epoch 137/200\n",
            "1/1 - 0s - loss: 0.1350 - acc: 0.9519 - 9ms/epoch - 9ms/step\n",
            "Epoch 138/200\n",
            "1/1 - 0s - loss: 0.1342 - acc: 0.9591 - 8ms/epoch - 8ms/step\n",
            "Epoch 139/200\n",
            "1/1 - 0s - loss: 0.1334 - acc: 0.9591 - 8ms/epoch - 8ms/step\n",
            "Epoch 140/200\n",
            "1/1 - 0s - loss: 0.1326 - acc: 0.9591 - 11ms/epoch - 11ms/step\n",
            "Epoch 141/200\n",
            "1/1 - 0s - loss: 0.1318 - acc: 0.9591 - 9ms/epoch - 9ms/step\n",
            "Epoch 142/200\n",
            "1/1 - 0s - loss: 0.1309 - acc: 0.9591 - 11ms/epoch - 11ms/step\n",
            "Epoch 143/200\n",
            "1/1 - 0s - loss: 0.1301 - acc: 0.9591 - 7ms/epoch - 7ms/step\n",
            "Epoch 144/200\n",
            "1/1 - 0s - loss: 0.1293 - acc: 0.9591 - 8ms/epoch - 8ms/step\n",
            "Epoch 145/200\n",
            "1/1 - 0s - loss: 0.1284 - acc: 0.9591 - 7ms/epoch - 7ms/step\n",
            "Epoch 146/200\n",
            "1/1 - 0s - loss: 0.1276 - acc: 0.9591 - 8ms/epoch - 8ms/step\n",
            "Epoch 147/200\n",
            "1/1 - 0s - loss: 0.1267 - acc: 0.9591 - 16ms/epoch - 16ms/step\n",
            "Epoch 148/200\n",
            "1/1 - 0s - loss: 0.1258 - acc: 0.9591 - 9ms/epoch - 9ms/step\n",
            "Epoch 149/200\n",
            "1/1 - 0s - loss: 0.1250 - acc: 0.9591 - 11ms/epoch - 11ms/step\n",
            "Epoch 150/200\n",
            "1/1 - 0s - loss: 0.1241 - acc: 0.9615 - 10ms/epoch - 10ms/step\n",
            "Epoch 151/200\n",
            "1/1 - 0s - loss: 0.1232 - acc: 0.9615 - 9ms/epoch - 9ms/step\n",
            "Epoch 152/200\n",
            "1/1 - 0s - loss: 0.1223 - acc: 0.9615 - 11ms/epoch - 11ms/step\n",
            "Epoch 153/200\n",
            "1/1 - 0s - loss: 0.1214 - acc: 0.9615 - 12ms/epoch - 12ms/step\n",
            "Epoch 154/200\n",
            "1/1 - 0s - loss: 0.1205 - acc: 0.9615 - 9ms/epoch - 9ms/step\n",
            "Epoch 155/200\n",
            "1/1 - 0s - loss: 0.1196 - acc: 0.9615 - 10ms/epoch - 10ms/step\n",
            "Epoch 156/200\n",
            "1/1 - 0s - loss: 0.1187 - acc: 0.9615 - 23ms/epoch - 23ms/step\n",
            "Epoch 157/200\n",
            "1/1 - 0s - loss: 0.1178 - acc: 0.9615 - 9ms/epoch - 9ms/step\n",
            "Epoch 158/200\n",
            "1/1 - 0s - loss: 0.1169 - acc: 0.9615 - 8ms/epoch - 8ms/step\n",
            "Epoch 159/200\n",
            "1/1 - 0s - loss: 0.1159 - acc: 0.9615 - 7ms/epoch - 7ms/step\n",
            "Epoch 160/200\n",
            "1/1 - 0s - loss: 0.1150 - acc: 0.9615 - 11ms/epoch - 11ms/step\n",
            "Epoch 161/200\n",
            "1/1 - 0s - loss: 0.1141 - acc: 0.9615 - 11ms/epoch - 11ms/step\n",
            "Epoch 162/200\n",
            "1/1 - 0s - loss: 0.1132 - acc: 0.9615 - 10ms/epoch - 10ms/step\n",
            "Epoch 163/200\n",
            "1/1 - 0s - loss: 0.1122 - acc: 0.9615 - 10ms/epoch - 10ms/step\n",
            "Epoch 164/200\n",
            "1/1 - 0s - loss: 0.1113 - acc: 0.9615 - 9ms/epoch - 9ms/step\n",
            "Epoch 165/200\n",
            "1/1 - 0s - loss: 0.1104 - acc: 0.9615 - 9ms/epoch - 9ms/step\n",
            "Epoch 166/200\n",
            "1/1 - 0s - loss: 0.1094 - acc: 0.9615 - 10ms/epoch - 10ms/step\n",
            "Epoch 167/200\n",
            "1/1 - 0s - loss: 0.1085 - acc: 0.9615 - 8ms/epoch - 8ms/step\n",
            "Epoch 168/200\n",
            "1/1 - 0s - loss: 0.1075 - acc: 0.9615 - 8ms/epoch - 8ms/step\n",
            "Epoch 169/200\n",
            "1/1 - 0s - loss: 0.1066 - acc: 0.9615 - 9ms/epoch - 9ms/step\n",
            "Epoch 170/200\n",
            "1/1 - 0s - loss: 0.1056 - acc: 0.9615 - 8ms/epoch - 8ms/step\n",
            "Epoch 171/200\n",
            "1/1 - 0s - loss: 0.1047 - acc: 0.9663 - 11ms/epoch - 11ms/step\n",
            "Epoch 172/200\n",
            "1/1 - 0s - loss: 0.1037 - acc: 0.9663 - 9ms/epoch - 9ms/step\n",
            "Epoch 173/200\n",
            "1/1 - 0s - loss: 0.1028 - acc: 0.9663 - 9ms/epoch - 9ms/step\n",
            "Epoch 174/200\n",
            "1/1 - 0s - loss: 0.1018 - acc: 0.9663 - 9ms/epoch - 9ms/step\n",
            "Epoch 175/200\n",
            "1/1 - 0s - loss: 0.1009 - acc: 0.9663 - 7ms/epoch - 7ms/step\n",
            "Epoch 176/200\n",
            "1/1 - 0s - loss: 0.0999 - acc: 0.9663 - 13ms/epoch - 13ms/step\n",
            "Epoch 177/200\n",
            "1/1 - 0s - loss: 0.0990 - acc: 0.9663 - 12ms/epoch - 12ms/step\n",
            "Epoch 178/200\n",
            "1/1 - 0s - loss: 0.0980 - acc: 0.9663 - 10ms/epoch - 10ms/step\n",
            "Epoch 179/200\n",
            "1/1 - 0s - loss: 0.0971 - acc: 0.9663 - 9ms/epoch - 9ms/step\n",
            "Epoch 180/200\n",
            "1/1 - 0s - loss: 0.0961 - acc: 0.9663 - 9ms/epoch - 9ms/step\n",
            "Epoch 181/200\n",
            "1/1 - 0s - loss: 0.0952 - acc: 0.9663 - 10ms/epoch - 10ms/step\n",
            "Epoch 182/200\n",
            "1/1 - 0s - loss: 0.0943 - acc: 0.9663 - 10ms/epoch - 10ms/step\n",
            "Epoch 183/200\n",
            "1/1 - 0s - loss: 0.0933 - acc: 0.9688 - 10ms/epoch - 10ms/step\n",
            "Epoch 184/200\n",
            "1/1 - 0s - loss: 0.0924 - acc: 0.9688 - 10ms/epoch - 10ms/step\n",
            "Epoch 185/200\n",
            "1/1 - 0s - loss: 0.0914 - acc: 0.9688 - 10ms/epoch - 10ms/step\n",
            "Epoch 186/200\n",
            "1/1 - 0s - loss: 0.0905 - acc: 0.9760 - 11ms/epoch - 11ms/step\n",
            "Epoch 187/200\n",
            "1/1 - 0s - loss: 0.0896 - acc: 0.9760 - 9ms/epoch - 9ms/step\n",
            "Epoch 188/200\n",
            "1/1 - 0s - loss: 0.0887 - acc: 0.9760 - 13ms/epoch - 13ms/step\n",
            "Epoch 189/200\n",
            "1/1 - 0s - loss: 0.0877 - acc: 0.9760 - 10ms/epoch - 10ms/step\n",
            "Epoch 190/200\n",
            "1/1 - 0s - loss: 0.0868 - acc: 0.9760 - 8ms/epoch - 8ms/step\n",
            "Epoch 191/200\n",
            "1/1 - 0s - loss: 0.0859 - acc: 0.9784 - 11ms/epoch - 11ms/step\n",
            "Epoch 192/200\n",
            "1/1 - 0s - loss: 0.0850 - acc: 0.9784 - 7ms/epoch - 7ms/step\n",
            "Epoch 193/200\n",
            "1/1 - 0s - loss: 0.0841 - acc: 0.9784 - 10ms/epoch - 10ms/step\n",
            "Epoch 194/200\n",
            "1/1 - 0s - loss: 0.0832 - acc: 0.9784 - 11ms/epoch - 11ms/step\n",
            "Epoch 195/200\n",
            "1/1 - 0s - loss: 0.0823 - acc: 0.9784 - 11ms/epoch - 11ms/step\n",
            "Epoch 196/200\n",
            "1/1 - 0s - loss: 0.0815 - acc: 0.9784 - 8ms/epoch - 8ms/step\n",
            "Epoch 197/200\n",
            "1/1 - 0s - loss: 0.0806 - acc: 0.9784 - 10ms/epoch - 10ms/step\n",
            "Epoch 198/200\n",
            "1/1 - 0s - loss: 0.0797 - acc: 0.9784 - 10ms/epoch - 10ms/step\n",
            "Epoch 199/200\n",
            "1/1 - 0s - loss: 0.0789 - acc: 0.9784 - 10ms/epoch - 10ms/step\n",
            "Epoch 200/200\n",
            "1/1 - 0s - loss: 0.0780 - acc: 0.9784 - 8ms/epoch - 8ms/step\n"
          ]
        },
        {
          "output_type": "execute_result",
          "data": {
            "text/plain": [
              "<keras.callbacks.History at 0x7f924457bf90>"
            ]
          },
          "metadata": {},
          "execution_count": 53
        }
      ],
      "source": [
        "model.fit(x1,y1,epochs=no_epochs, batch_size=len(x1),  verbose=2)"
      ]
    },
    {
      "cell_type": "code",
      "execution_count": null,
      "metadata": {
        "id": "iVc2V9D-pCDT",
        "colab": {
          "base_uri": "https://localhost:8080/"
        },
        "outputId": "1bbad842-d2c8-4a7c-9d22-2b45a5e8a923"
      },
      "outputs": [
        {
          "output_type": "stream",
          "name": "stdout",
          "text": [
            "4/4 [==============================] - 0s 3ms/step\n"
          ]
        }
      ],
      "source": [
        "y_predict_a = model.predict(X_test)\n",
        "y_predict_a= [int(round(x[0])) for x in y_predict_a]"
      ]
    },
    {
      "cell_type": "code",
      "execution_count": null,
      "metadata": {
        "id": "s2YUNwIqPh5X"
      },
      "outputs": [],
      "source": [
        "\n",
        "roc=roc_auc_score(y_test, y_predict_a)\n",
        "acc = accuracy_score(y_test, y_predict_a)\n",
        "prec = precision_score(y_test, y_predict_a)\n",
        "rec = recall_score(y_test, y_predict_a)\n",
        "f1 = f1_score(y_test, y_predict_a)\n",
        "model_results1 = pd.DataFrame([['ANN',acc, acc_rf.mean(),prec,rec, f1,roc]],\n",
        "               columns = ['Model', 'Accuracy','Cross Val Accuracy', 'Precision', 'Recall', 'F1 Score','ROC'])\n",
        "#results = results.append(model_results1, ignore_index = True)\n",
        "#results"
      ]
    },
    {
      "cell_type": "code",
      "execution_count": null,
      "metadata": {
        "colab": {
          "base_uri": "https://localhost:8080/",
          "height": 281
        },
        "id": "vdwUeNOMPh8A",
        "outputId": "803149da-b8cf-47a0-9771-7a3d72d4b411"
      },
      "outputs": [
        {
          "output_type": "display_data",
          "data": {
            "text/plain": [
              "<Figure size 432x288 with 2 Axes>"
            ],
            "image/png": "[encoded data removed]"
          },
          "metadata": {
            "needs_background": "light"
          }
        }
      ],
      "source": [
        "cm_rf = confusion_matrix(y_test, y_predict_r)\n",
        "plt.title('Confusion matrix of the Multilayer-perceptron ANN ')\n",
        "sns.heatmap(cm_rf,annot=True,fmt=\"d\")\n",
        "plt.show()"
      ]
    },
    {
      "cell_type": "markdown",
      "metadata": {
        "id": "O-5dXF9UrHRy"
      },
      "source": [
        "# **Feature Selection**-**Top 10 Features**"
      ]
    },
    {
      "cell_type": "code",
      "execution_count": null,
      "metadata": {
        "colab": {
          "base_uri": "https://localhost:8080/"
        },
        "id": "u-lEHS8aqyeZ",
        "outputId": "7870e1e5-dc7d-471b-9806-441e03181fe2"
      },
      "outputs": [
        {
          "output_type": "execute_result",
          "data": {
            "text/plain": [
              "Index(['Age', 'Gender', 'Polyuria', 'Polydipsia', 'sudden weight loss',\n",
              "       'weakness', 'Polyphagia', 'Genital thrush', 'visual blurring',\n",
              "       'Itching', 'Irritability', 'delayed healing', 'partial paresis',\n",
              "       'muscle stiffness', 'Alopecia', 'Obesity'],\n",
              "      dtype='object')"
            ]
          },
          "metadata": {},
          "execution_count": 57
        }
      ],
      "source": [
        "X.columns"
      ]
    },
    {
      "cell_type": "code",
      "execution_count": null,
      "metadata": {
        "colab": {
          "base_uri": "https://localhost:8080/",
          "height": 206
        },
        "id": "h93r58mQqyq-",
        "outputId": "724a4406-48a6-4d39-c9fd-a6e083e42f79"
      },
      "outputs": [
        {
          "output_type": "execute_result",
          "data": {
            "text/plain": [
              "   Age  Gender  Polyuria  Polydipsia  sudden weight loss  weakness  \\\n",
              "0   40       1         0           1                   0         1   \n",
              "1   58       1         0           0                   0         1   \n",
              "2   41       1         1           0                   0         1   \n",
              "3   45       1         0           0                   1         1   \n",
              "4   60       1         1           1                   1         1   \n",
              "\n",
              "   Polyphagia  Genital thrush  visual blurring  Itching  Irritability  \\\n",
              "0           0               0                0        1             0   \n",
              "1           0               0                1        0             0   \n",
              "2           1               0                0        1             0   \n",
              "3           1               1                0        1             0   \n",
              "4           1               0                1        1             1   \n",
              "\n",
              "   delayed healing  partial paresis  muscle stiffness  Alopecia  Obesity  \n",
              "0                1                0                 1         1        1  \n",
              "1                0                1                 0         1        0  \n",
              "2                1                0                 1         1        0  \n",
              "3                1                0                 0         0        0  \n",
              "4                1                1                 1         1        1  "
            ],
            "text/html": [
              "\n",
              "  <div id=\"df-c7d7420e-884b-4ff6-941b-d4b3e7f0c481\">\n",
              "    <div class=\"colab-df-container\">\n",
              "      <div>\n",
              "<style scoped>\n",
              "    .dataframe tbody tr th:only-of-type {\n",
              "        vertical-align: middle;\n",
              "    }\n",
              "\n",
              "    .dataframe tbody tr th {\n",
              "        vertical-align: top;\n",
              "    }\n",
              "\n",
              "    .dataframe thead th {\n",
              "        text-align: right;\n",
              "    }\n",
              "</style>\n",
              "<table border=\"1\" class=\"dataframe\">\n",
              "  <thead>\n",
              "    <tr style=\"text-align: right;\">\n",
              "      <th></th>\n",
              "      <th>Age</th>\n",
              "      <th>Gender</th>\n",
              "      <th>Polyuria</th>\n",
              "      <th>Polydipsia</th>\n",
              "      <th>sudden weight loss</th>\n",
              "      <th>weakness</th>\n",
              "      <th>Polyphagia</th>\n",
              "      <th>Genital thrush</th>\n",
              "      <th>visual blurring</th>\n",
              "      <th>Itching</th>\n",
              "      <th>Irritability</th>\n",
              "      <th>delayed healing</th>\n",
              "      <th>partial paresis</th>\n",
              "      <th>muscle stiffness</th>\n",
              "      <th>Alopecia</th>\n",
              "      <th>Obesity</th>\n",
              "    </tr>\n",
              "  </thead>\n",
              "  <tbody>\n",
              "    <tr>\n",
              "      <th>0</th>\n",
              "      <td>40</td>\n",
              "      <td>1</td>\n",
              "      <td>0</td>\n",
              "      <td>1</td>\n",
              "      <td>0</td>\n",
              "      <td>1</td>\n",
              "      <td>0</td>\n",
              "      <td>0</td>\n",
              "      <td>0</td>\n",
              "      <td>1</td>\n",
              "      <td>0</td>\n",
              "      <td>1</td>\n",
              "      <td>0</td>\n",
              "      <td>1</td>\n",
              "      <td>1</td>\n",
              "      <td>1</td>\n",
              "    </tr>\n",
              "    <tr>\n",
              "      <th>1</th>\n",
              "      <td>58</td>\n",
              "      <td>1</td>\n",
              "      <td>0</td>\n",
              "      <td>0</td>\n",
              "      <td>0</td>\n",
              "      <td>1</td>\n",
              "      <td>0</td>\n",
              "      <td>0</td>\n",
              "      <td>1</td>\n",
              "      <td>0</td>\n",
              "      <td>0</td>\n",
              "      <td>0</td>\n",
              "      <td>1</td>\n",
              "      <td>0</td>\n",
              "      <td>1</td>\n",
              "      <td>0</td>\n",
              "    </tr>\n",
              "    <tr>\n",
              "      <th>2</th>\n",
              "      <td>41</td>\n",
              "      <td>1</td>\n",
              "      <td>1</td>\n",
              "      <td>0</td>\n",
              "      <td>0</td>\n",
              "      <td>1</td>\n",
              "      <td>1</td>\n",
              "      <td>0</td>\n",
              "      <td>0</td>\n",
              "      <td>1</td>\n",
              "      <td>0</td>\n",
              "      <td>1</td>\n",
              "      <td>0</td>\n",
              "      <td>1</td>\n",
              "      <td>1</td>\n",
              "      <td>0</td>\n",
              "    </tr>\n",
              "    <tr>\n",
              "      <th>3</th>\n",
              "      <td>45</td>\n",
              "      <td>1</td>\n",
              "      <td>0</td>\n",
              "      <td>0</td>\n",
              "      <td>1</td>\n",
              "      <td>1</td>\n",
              "      <td>1</td>\n",
              "      <td>1</td>\n",
              "      <td>0</td>\n",
              "      <td>1</td>\n",
              "      <td>0</td>\n",
              "      <td>1</td>\n",
              "      <td>0</td>\n",
              "      <td>0</td>\n",
              "      <td>0</td>\n",
              "      <td>0</td>\n",
              "    </tr>\n",
              "    <tr>\n",
              "      <th>4</th>\n",
              "      <td>60</td>\n",
              "      <td>1</td>\n",
              "      <td>1</td>\n",
              "      <td>1</td>\n",
              "      <td>1</td>\n",
              "      <td>1</td>\n",
              "      <td>1</td>\n",
              "      <td>0</td>\n",
              "      <td>1</td>\n",
              "      <td>1</td>\n",
              "      <td>1</td>\n",
              "      <td>1</td>\n",
              "      <td>1</td>\n",
              "      <td>1</td>\n",
              "      <td>1</td>\n",
              "      <td>1</td>\n",
              "    </tr>\n",
              "  </tbody>\n",
              "</table>\n",
              "</div>\n",
              "      <button class=\"colab-df-convert\" onclick=\"convertToInteractive('df-c7d7420e-884b-4ff6-941b-d4b3e7f0c481')\"\n",
              "              title=\"Convert this dataframe to an interactive table.\"\n",
              "              style=\"display:none;\">\n",
              "        \n",
              "  <svg xmlns=\"http://www.w3.org/2000/svg\" height=\"24px\"viewBox=\"0 0 24 24\"\n",
              "       width=\"24px\">\n",
              "    <path d=\"M0 0h24v24H0V0z\" fill=\"none\"/>\n",
              "    <path d=\"M18.56 5.44l.94 2.06.94-2.06 2.06-.94-2.06-.94-.94-2.06-.94 2.06-2.06.94zm-11 1L8.5 8.5l.94-2.06 2.06-.94-2.06-.94L8.5 2.5l-.94 2.06-2.06.94zm10 10l.94 2.06.94-2.06 2.06-.94-2.06-.94-.94-2.06-.94 2.06-2.06.94z\"/><path d=\"M17.41 7.96l-1.37-1.37c-.4-.4-.92-.59-1.43-.59-.52 0-1.04.2-1.43.59L10.3 9.45l-7.72 7.72c-.78.78-.78 2.05 0 2.83L4 21.41c.39.39.9.59 1.41.59.51 0 1.02-.2 1.41-.59l7.78-7.78 2.81-2.81c.8-.78.8-2.07 0-2.86zM5.41 20L4 18.59l7.72-7.72 1.47 1.35L5.41 20z\"/>\n",
              "  </svg>\n",
              "      </button>\n",
              "      \n",
              "  <style>\n",
              "    .colab-df-container {\n",
              "      display:flex;\n",
              "      flex-wrap:wrap;\n",
              "      gap: 12px;\n",
              "    }\n",
              "\n",
              "    .colab-df-convert {\n",
              "      background-color: #E8F0FE;\n",
              "      border: none;\n",
              "      border-radius: 50%;\n",
              "      cursor: pointer;\n",
              "      display: none;\n",
              "      fill: #1967D2;\n",
              "      height: 32px;\n",
              "      padding: 0 0 0 0;\n",
              "      width: 32px;\n",
              "    }\n",
              "\n",
              "    .colab-df-convert:hover {\n",
              "      background-color: #E2EBFA;\n",
              "      box-shadow: 0px 1px 2px rgba(60, 64, 67, 0.3), 0px 1px 3px 1px rgba(60, 64, 67, 0.15);\n",
              "      fill: #174EA6;\n",
              "    }\n",
              "\n",
              "    [theme=dark] .colab-df-convert {\n",
              "      background-color: #3B4455;\n",
              "      fill: #D2E3FC;\n",
              "    }\n",
              "\n",
              "    [theme=dark] .colab-df-convert:hover {\n",
              "      background-color: #434B5C;\n",
              "      box-shadow: 0px 1px 3px 1px rgba(0, 0, 0, 0.15);\n",
              "      filter: drop-shadow(0px 1px 2px rgba(0, 0, 0, 0.3));\n",
              "      fill: #FFFFFF;\n",
              "    }\n",
              "  </style>\n",
              "\n",
              "      <script>\n",
              "        const buttonEl =\n",
              "          document.querySelector('#df-c7d7420e-884b-4ff6-941b-d4b3e7f0c481 button.colab-df-convert');\n",
              "        buttonEl.style.display =\n",
              "          google.colab.kernel.accessAllowed ? 'block' : 'none';\n",
              "\n",
              "        async function convertToInteractive(key) {\n",
              "          const element = document.querySelector('#df-c7d7420e-884b-4ff6-941b-d4b3e7f0c481');\n",
              "          const dataTable =\n",
              "            await google.colab.kernel.invokeFunction('convertToInteractive',\n",
              "                                                     [key], {});\n",
              "          if (!dataTable) return;\n",
              "\n",
              "          const docLinkHtml = 'Like what you see? Visit the ' +\n",
              "            '<a target=\"_blank\" href=https://colab.research.google.com/notebooks/data_table.ipynb>data table notebook</a>'\n",
              "            + ' to learn more about interactive tables.';\n",
              "          element.innerHTML = '';\n",
              "          dataTable['output_type'] = 'display_data';\n",
              "          await google.colab.output.renderOutput(dataTable, element);\n",
              "          const docLink = document.createElement('div');\n",
              "          docLink.innerHTML = docLinkHtml;\n",
              "          element.appendChild(docLink);\n",
              "        }\n",
              "      </script>\n",
              "    </div>\n",
              "  </div>\n",
              "  "
            ]
          },
          "metadata": {},
          "execution_count": 58
        }
      ],
      "source": [
        "X.head()"
      ]
    },
    {
      "cell_type": "markdown",
      "metadata": {
        "id": "321u9FsgrgW1"
      },
      "source": [
        "# **filtering** **unwanted** **features**"
      ]
    },
    {
      "cell_type": "code",
      "execution_count": null,
      "metadata": {
        "colab": {
          "base_uri": "https://localhost:8080/",
          "height": 423
        },
        "id": "OQ51pN5trf1B",
        "outputId": "e1b80d2e-4991-4268-fdf7-6eb864d09d89"
      },
      "outputs": [
        {
          "output_type": "execute_result",
          "data": {
            "text/plain": [
              "     Polyuria  Polydipsia  Age  Gender  partial paresis  sudden weight loss  \\\n",
              "0           0           1   40       1                0                   0   \n",
              "1           0           0   58       1                1                   0   \n",
              "2           1           0   41       1                0                   0   \n",
              "3           0           0   45       1                0                   1   \n",
              "4           1           1   60       1                1                   1   \n",
              "..        ...         ...  ...     ...              ...                 ...   \n",
              "515         1           1   39       0                1                   1   \n",
              "516         1           1   48       0                1                   1   \n",
              "517         1           1   58       0                1                   1   \n",
              "518         0           0   32       0                0                   0   \n",
              "519         0           0   42       1                0                   0   \n",
              "\n",
              "     Irritability  delayed healing  Alopecia  Itching  \n",
              "0               0                1         1        1  \n",
              "1               0                0         1        0  \n",
              "2               0                1         1        1  \n",
              "3               0                1         0        1  \n",
              "4               1                1         1        1  \n",
              "..            ...              ...       ...      ...  \n",
              "515             0                1         0        1  \n",
              "516             1                1         0        1  \n",
              "517             0                0         0        0  \n",
              "518             0                1         1        1  \n",
              "519             0                0         0        0  \n",
              "\n",
              "[520 rows x 10 columns]"
            ],
            "text/html": [
              "\n",
              "  <div id=\"df-b85eba95-584c-4e48-830e-b91d12519ef3\">\n",
              "    <div class=\"colab-df-container\">\n",
              "      <div>\n",
              "<style scoped>\n",
              "    .dataframe tbody tr th:only-of-type {\n",
              "        vertical-align: middle;\n",
              "    }\n",
              "\n",
              "    .dataframe tbody tr th {\n",
              "        vertical-align: top;\n",
              "    }\n",
              "\n",
              "    .dataframe thead th {\n",
              "        text-align: right;\n",
              "    }\n",
              "</style>\n",
              "<table border=\"1\" class=\"dataframe\">\n",
              "  <thead>\n",
              "    <tr style=\"text-align: right;\">\n",
              "      <th></th>\n",
              "      <th>Polyuria</th>\n",
              "      <th>Polydipsia</th>\n",
              "      <th>Age</th>\n",
              "      <th>Gender</th>\n",
              "      <th>partial paresis</th>\n",
              "      <th>sudden weight loss</th>\n",
              "      <th>Irritability</th>\n",
              "      <th>delayed healing</th>\n",
              "      <th>Alopecia</th>\n",
              "      <th>Itching</th>\n",
              "    </tr>\n",
              "  </thead>\n",
              "  <tbody>\n",
              "    <tr>\n",
              "      <th>0</th>\n",
              "      <td>0</td>\n",
              "      <td>1</td>\n",
              "      <td>40</td>\n",
              "      <td>1</td>\n",
              "      <td>0</td>\n",
              "      <td>0</td>\n",
              "      <td>0</td>\n",
              "      <td>1</td>\n",
              "      <td>1</td>\n",
              "      <td>1</td>\n",
              "    </tr>\n",
              "    <tr>\n",
              "      <th>1</th>\n",
              "      <td>0</td>\n",
              "      <td>0</td>\n",
              "      <td>58</td>\n",
              "      <td>1</td>\n",
              "      <td>1</td>\n",
              "      <td>0</td>\n",
              "      <td>0</td>\n",
              "      <td>0</td>\n",
              "      <td>1</td>\n",
              "      <td>0</td>\n",
              "    </tr>\n",
              "    <tr>\n",
              "      <th>2</th>\n",
              "      <td>1</td>\n",
              "      <td>0</td>\n",
              "      <td>41</td>\n",
              "      <td>1</td>\n",
              "      <td>0</td>\n",
              "      <td>0</td>\n",
              "      <td>0</td>\n",
              "      <td>1</td>\n",
              "      <td>1</td>\n",
              "      <td>1</td>\n",
              "    </tr>\n",
              "    <tr>\n",
              "      <th>3</th>\n",
              "      <td>0</td>\n",
              "      <td>0</td>\n",
              "      <td>45</td>\n",
              "      <td>1</td>\n",
              "      <td>0</td>\n",
              "      <td>1</td>\n",
              "      <td>0</td>\n",
              "      <td>1</td>\n",
              "      <td>0</td>\n",
              "      <td>1</td>\n",
              "    </tr>\n",
              "    <tr>\n",
              "      <th>4</th>\n",
              "      <td>1</td>\n",
              "      <td>1</td>\n",
              "      <td>60</td>\n",
              "      <td>1</td>\n",
              "      <td>1</td>\n",
              "      <td>1</td>\n",
              "      <td>1</td>\n",
              "      <td>1</td>\n",
              "      <td>1</td>\n",
              "      <td>1</td>\n",
              "    </tr>\n",
              "    <tr>\n",
              "      <th>...</th>\n",
              "      <td>...</td>\n",
              "      <td>...</td>\n",
              "      <td>...</td>\n",
              "      <td>...</td>\n",
              "      <td>...</td>\n",
              "      <td>...</td>\n",
              "      <td>...</td>\n",
              "      <td>...</td>\n",
              "      <td>...</td>\n",
              "      <td>...</td>\n",
              "    </tr>\n",
              "    <tr>\n",
              "      <th>515</th>\n",
              "      <td>1</td>\n",
              "      <td>1</td>\n",
              "      <td>39</td>\n",
              "      <td>0</td>\n",
              "      <td>1</td>\n",
              "      <td>1</td>\n",
              "      <td>0</td>\n",
              "      <td>1</td>\n",
              "      <td>0</td>\n",
              "      <td>1</td>\n",
              "    </tr>\n",
              "    <tr>\n",
              "      <th>516</th>\n",
              "      <td>1</td>\n",
              "      <td>1</td>\n",
              "      <td>48</td>\n",
              "      <td>0</td>\n",
              "      <td>1</td>\n",
              "      <td>1</td>\n",
              "      <td>1</td>\n",
              "      <td>1</td>\n",
              "      <td>0</td>\n",
              "      <td>1</td>\n",
              "    </tr>\n",
              "    <tr>\n",
              "      <th>517</th>\n",
              "      <td>1</td>\n",
              "      <td>1</td>\n",
              "      <td>58</td>\n",
              "      <td>0</td>\n",
              "      <td>1</td>\n",
              "      <td>1</td>\n",
              "      <td>0</td>\n",
              "      <td>0</td>\n",
              "      <td>0</td>\n",
              "      <td>0</td>\n",
              "    </tr>\n",
              "    <tr>\n",
              "      <th>518</th>\n",
              "      <td>0</td>\n",
              "      <td>0</td>\n",
              "      <td>32</td>\n",
              "      <td>0</td>\n",
              "      <td>0</td>\n",
              "      <td>0</td>\n",
              "      <td>0</td>\n",
              "      <td>1</td>\n",
              "      <td>1</td>\n",
              "      <td>1</td>\n",
              "    </tr>\n",
              "    <tr>\n",
              "      <th>519</th>\n",
              "      <td>0</td>\n",
              "      <td>0</td>\n",
              "      <td>42</td>\n",
              "      <td>1</td>\n",
              "      <td>0</td>\n",
              "      <td>0</td>\n",
              "      <td>0</td>\n",
              "      <td>0</td>\n",
              "      <td>0</td>\n",
              "      <td>0</td>\n",
              "    </tr>\n",
              "  </tbody>\n",
              "</table>\n",
              "<p>520 rows × 10 columns</p>\n",
              "</div>\n",
              "      <button class=\"colab-df-convert\" onclick=\"convertToInteractive('df-b85eba95-584c-4e48-830e-b91d12519ef3')\"\n",
              "              title=\"Convert this dataframe to an interactive table.\"\n",
              "              style=\"display:none;\">\n",
              "        \n",
              "  <svg xmlns=\"http://www.w3.org/2000/svg\" height=\"24px\"viewBox=\"0 0 24 24\"\n",
              "       width=\"24px\">\n",
              "    <path d=\"M0 0h24v24H0V0z\" fill=\"none\"/>\n",
              "    <path d=\"M18.56 5.44l.94 2.06.94-2.06 2.06-.94-2.06-.94-.94-2.06-.94 2.06-2.06.94zm-11 1L8.5 8.5l.94-2.06 2.06-.94-2.06-.94L8.5 2.5l-.94 2.06-2.06.94zm10 10l.94 2.06.94-2.06 2.06-.94-2.06-.94-.94-2.06-.94 2.06-2.06.94z\"/><path d=\"M17.41 7.96l-1.37-1.37c-.4-.4-.92-.59-1.43-.59-.52 0-1.04.2-1.43.59L10.3 9.45l-7.72 7.72c-.78.78-.78 2.05 0 2.83L4 21.41c.39.39.9.59 1.41.59.51 0 1.02-.2 1.41-.59l7.78-7.78 2.81-2.81c.8-.78.8-2.07 0-2.86zM5.41 20L4 18.59l7.72-7.72 1.47 1.35L5.41 20z\"/>\n",
              "  </svg>\n",
              "      </button>\n",
              "      \n",
              "  <style>\n",
              "    .colab-df-container {\n",
              "      display:flex;\n",
              "      flex-wrap:wrap;\n",
              "      gap: 12px;\n",
              "    }\n",
              "\n",
              "    .colab-df-convert {\n",
              "      background-color: #E8F0FE;\n",
              "      border: none;\n",
              "      border-radius: 50%;\n",
              "      cursor: pointer;\n",
              "      display: none;\n",
              "      fill: #1967D2;\n",
              "      height: 32px;\n",
              "      padding: 0 0 0 0;\n",
              "      width: 32px;\n",
              "    }\n",
              "\n",
              "    .colab-df-convert:hover {\n",
              "      background-color: #E2EBFA;\n",
              "      box-shadow: 0px 1px 2px rgba(60, 64, 67, 0.3), 0px 1px 3px 1px rgba(60, 64, 67, 0.15);\n",
              "      fill: #174EA6;\n",
              "    }\n",
              "\n",
              "    [theme=dark] .colab-df-convert {\n",
              "      background-color: #3B4455;\n",
              "      fill: #D2E3FC;\n",
              "    }\n",
              "\n",
              "    [theme=dark] .colab-df-convert:hover {\n",
              "      background-color: #434B5C;\n",
              "      box-shadow: 0px 1px 3px 1px rgba(0, 0, 0, 0.15);\n",
              "      filter: drop-shadow(0px 1px 2px rgba(0, 0, 0, 0.3));\n",
              "      fill: #FFFFFF;\n",
              "    }\n",
              "  </style>\n",
              "\n",
              "      <script>\n",
              "        const buttonEl =\n",
              "          document.querySelector('#df-b85eba95-584c-4e48-830e-b91d12519ef3 button.colab-df-convert');\n",
              "        buttonEl.style.display =\n",
              "          google.colab.kernel.accessAllowed ? 'block' : 'none';\n",
              "\n",
              "        async function convertToInteractive(key) {\n",
              "          const element = document.querySelector('#df-b85eba95-584c-4e48-830e-b91d12519ef3');\n",
              "          const dataTable =\n",
              "            await google.colab.kernel.invokeFunction('convertToInteractive',\n",
              "                                                     [key], {});\n",
              "          if (!dataTable) return;\n",
              "\n",
              "          const docLinkHtml = 'Like what you see? Visit the ' +\n",
              "            '<a target=\"_blank\" href=https://colab.research.google.com/notebooks/data_table.ipynb>data table notebook</a>'\n",
              "            + ' to learn more about interactive tables.';\n",
              "          element.innerHTML = '';\n",
              "          dataTable['output_type'] = 'display_data';\n",
              "          await google.colab.output.renderOutput(dataTable, element);\n",
              "          const docLink = document.createElement('div');\n",
              "          docLink.innerHTML = docLinkHtml;\n",
              "          element.appendChild(docLink);\n",
              "        }\n",
              "      </script>\n",
              "    </div>\n",
              "  </div>\n",
              "  "
            ]
          },
          "metadata": {},
          "execution_count": 59
        }
      ],
      "source": [
        "X_fs = X[['Polyuria', 'Polydipsia','Age', 'Gender','partial paresis','sudden weight loss','Irritability', 'delayed healing','Alopecia','Itching']]\n",
        "X_fs\n"
      ]
    },
    {
      "cell_type": "markdown",
      "metadata": {
        "id": "feWvpvumr4PU"
      },
      "source": [
        "# **Train Test Split**\n"
      ]
    },
    {
      "cell_type": "code",
      "execution_count": null,
      "metadata": {
        "id": "boLsnIFar1I3"
      },
      "outputs": [],
      "source": [
        "X_train, X_test, y_train, y_test = train_test_split(X_fs, y, test_size = 0.2,stratify=y, random_state = 1234)"
      ]
    },
    {
      "cell_type": "markdown",
      "metadata": {
        "id": "q47Qu0hDsHcV"
      },
      "source": [
        "# **Data Normalization**"
      ]
    },
    {
      "cell_type": "code",
      "execution_count": null,
      "metadata": {
        "id": "HDRdxp-Mr1N_"
      },
      "outputs": [],
      "source": [
        "minmax = MinMaxScaler()\n",
        "X_train[['Age']] = minmax.fit_transform(X_train[['Age']])\n",
        "X_test[['Age']] = minmax.transform(X_test[['Age']])"
      ]
    },
    {
      "cell_type": "markdown",
      "metadata": {
        "id": "kKXqo16lsW2m"
      },
      "source": [
        "# **Model** **building**\n",
        "# **Logistic** **Regression** - **Post** **Feature** **Selection**"
      ]
    },
    {
      "cell_type": "code",
      "execution_count": null,
      "metadata": {
        "colab": {
          "base_uri": "https://localhost:8080/"
        },
        "id": "QUAYAGHGr1RW",
        "outputId": "b4092751-0e32-4dc3-dd18-8af926d5e671"
      },
      "outputs": [
        {
          "output_type": "execute_result",
          "data": {
            "text/plain": [
              "LogisticRegression(random_state=0)"
            ]
          },
          "metadata": {},
          "execution_count": 62
        }
      ],
      "source": [
        "logi = LogisticRegression(random_state = 0, penalty = 'l2')\n",
        "logi.fit(X_train, y_train)"
      ]
    },
    {
      "cell_type": "markdown",
      "metadata": {
        "id": "EobOyO2Fsl2H"
      },
      "source": [
        "# **Cross Validation**"
      ]
    },
    {
      "cell_type": "code",
      "execution_count": null,
      "metadata": {
        "colab": {
          "base_uri": "https://localhost:8080/"
        },
        "id": "ubhypGcEsr--",
        "outputId": "ef2239e9-7280-4580-9764-f8093190e6cb"
      },
      "outputs": [
        {
          "output_type": "execute_result",
          "data": {
            "text/plain": [
              "0.9085365853658539"
            ]
          },
          "metadata": {},
          "execution_count": 63
        }
      ],
      "source": [
        "kfold = model_selection.KFold(n_splits=10, random_state=7,shuffle=True)\n",
        "scoring = 'accuracy'\n",
        "acc_logi = cross_val_score(estimator = logi, X = X_train, y = y_train, cv = kfold,scoring=scoring)\n",
        "acc_logi.mean()"
      ]
    },
    {
      "cell_type": "code",
      "execution_count": null,
      "metadata": {
        "id": "FiWeyvc1szt_"
      },
      "outputs": [],
      "source": [
        "y_predict_logi = logi.predict(X_test)\n",
        "acc= accuracy_score(y_test, y_predict_logi)\n",
        "roc=roc_auc_score(y_test, y_predict_logi)\n",
        "prec = precision_score(y_test, y_predict_logi)\n",
        "rec = recall_score(y_test, y_predict_logi)\n",
        "f1 = f1_score(y_test, y_predict_logi)\n",
        "\n",
        "model_results = pd.DataFrame([['Logistic Regression-Post FS',acc, acc_logi.mean(),prec,rec, f1,roc]],\n",
        "               columns = ['Model', 'Accuracy','Cross Val Accuracy', 'Precision', 'Recall', 'F1 Score','ROC'])\n",
        "#results = results.append(model_results, ignore_index = True)\n",
        "#results"
      ]
    },
    {
      "cell_type": "code",
      "source": [
        "print(\"Accuracy:\",acc)\n",
        "print(\"Precision:\",prec)\n",
        "print(\"Recall score:\",rec)\n",
        "print(\"f1 score:\",f1)"
      ],
      "metadata": {
        "colab": {
          "base_uri": "https://localhost:8080/"
        },
        "id": "0eZ8e1C5kHdg",
        "outputId": "cc383a61-56ac-45cf-b6ee-678300e43bd1"
      },
      "execution_count": null,
      "outputs": [
        {
          "output_type": "stream",
          "name": "stdout",
          "text": [
            "Accuracy: 0.9615384615384616\n",
            "Precision: 0.9838709677419355\n",
            "Recall score: 0.953125\n",
            "f1 score: 0.9682539682539683\n"
          ]
        }
      ]
    },
    {
      "cell_type": "code",
      "execution_count": null,
      "metadata": {
        "colab": {
          "base_uri": "https://localhost:8080/",
          "height": 281
        },
        "id": "i9LkZrlElw6a",
        "outputId": "b5058698-489b-4824-a6a4-6a01f9e89896"
      },
      "outputs": [
        {
          "output_type": "display_data",
          "data": {
            "text/plain": [
              "<Figure size 432x288 with 2 Axes>"
            ],
            "image/png": "[encoded data removed]"
          },
          "metadata": {
            "needs_background": "light"
          }
        }
      ],
      "source": [
        "cm_rf = confusion_matrix(y_test, y_predict_logi)\n",
        "plt.title('Confusion matrix of the Logistic Regression-After FS')\n",
        "sns.heatmap(cm_rf,annot=True,fmt=\"d\")\n",
        "plt.show()"
      ]
    },
    {
      "cell_type": "markdown",
      "metadata": {
        "id": "ZKmiuHOSs5-i"
      },
      "source": [
        "# **Random Forest - Post Feature selection**"
      ]
    },
    {
      "cell_type": "code",
      "execution_count": null,
      "metadata": {
        "colab": {
          "base_uri": "https://localhost:8080/"
        },
        "id": "7eIQg8qIs5i-",
        "outputId": "a4f1648a-65ad-46d0-9e56-3ef11c899edb"
      },
      "outputs": [
        {
          "output_type": "execute_result",
          "data": {
            "text/plain": [
              "RandomForestClassifier()"
            ]
          },
          "metadata": {},
          "execution_count": 67
        }
      ],
      "source": [
        "rf = RandomForestClassifier(criterion='gini',n_estimators=100)\n",
        "rf.fit(X_train,y_train)\n"
      ]
    },
    {
      "cell_type": "markdown",
      "metadata": {
        "id": "LuyQCouOtEOZ"
      },
      "source": [
        "# **Cross-Validation**"
      ]
    },
    {
      "cell_type": "code",
      "execution_count": null,
      "metadata": {
        "colab": {
          "base_uri": "https://localhost:8080/"
        },
        "id": "G6RAZQQjtC3N",
        "outputId": "2368e52b-a514-4b1e-81e9-990032e6699a"
      },
      "outputs": [
        {
          "output_type": "execute_result",
          "data": {
            "text/plain": [
              "0.9589430894308946"
            ]
          },
          "metadata": {},
          "execution_count": 68
        }
      ],
      "source": [
        "kfold = model_selection.KFold(n_splits=10, random_state=7,shuffle=True)\n",
        "scoring = 'accuracy'\n",
        "acc_rf = cross_val_score(estimator = rf, X = X_train, y = y_train, cv = kfold,scoring=scoring)\n",
        "acc_rf.mean()"
      ]
    },
    {
      "cell_type": "markdown",
      "metadata": {
        "id": "ogJNyToWtQY8"
      },
      "source": [
        "# **Model Evaluation**"
      ]
    },
    {
      "cell_type": "code",
      "execution_count": null,
      "metadata": {
        "id": "zuOJfIDktQK8"
      },
      "outputs": [],
      "source": [
        "y_predict_r = rf.predict(X_test)\n",
        "roc=roc_auc_score(y_test, y_predict_r)\n",
        "acc = accuracy_score(y_test, y_predict_r)\n",
        "prec = precision_score(y_test, y_predict_r)\n",
        "rec = recall_score(y_test, y_predict_r)\n",
        "f1 = f1_score(y_test, y_predict_r)\n",
        "\n",
        "model_results = pd.DataFrame([['Random Forest- Post FS',acc, acc_rf.mean(),prec,rec, f1,roc]],\n",
        "               columns = ['Model', 'Accuracy','Cross Val Accuracy', 'Precision', 'Recall', 'F1 Score','ROC'])\n",
        "#results = results.append(model_results, ignore_index = True)\n",
        "#results"
      ]
    },
    {
      "cell_type": "code",
      "source": [
        "print(\"Accuracy:\",acc)\n",
        "print(\"Precision:\",prec)\n",
        "print(\"Recall score:\",rec)\n",
        "print(\"f1 score:\",f1)"
      ],
      "metadata": {
        "colab": {
          "base_uri": "https://localhost:8080/"
        },
        "id": "ABhtg_nFlSH8",
        "outputId": "4527d887-ad7a-4928-c702-66bde9de0450"
      },
      "execution_count": null,
      "outputs": [
        {
          "output_type": "stream",
          "name": "stdout",
          "text": [
            "Accuracy: 0.9807692307692307\n",
            "Precision: 1.0\n",
            "Recall score: 0.96875\n",
            "f1 score: 0.9841269841269841\n"
          ]
        }
      ]
    },
    {
      "cell_type": "code",
      "execution_count": null,
      "metadata": {
        "colab": {
          "base_uri": "https://localhost:8080/",
          "height": 281
        },
        "id": "ZKnbyfultdVG",
        "outputId": "f8ab5af6-a7a0-4cf8-9c79-d7603e3e9f87"
      },
      "outputs": [
        {
          "output_type": "display_data",
          "data": {
            "text/plain": [
              "<Figure size 432x288 with 2 Axes>"
            ],
            "image/png": "[encoded data removed]"
          },
          "metadata": {
            "needs_background": "light"
          }
        }
      ],
      "source": [
        "cm_rf = confusion_matrix(y_test, y_predict_r)\n",
        "plt.title('Confusion matrix of the Random Forest After FS')\n",
        "sns.heatmap(cm_rf,annot=True,fmt=\"d\")\n",
        "plt.show()"
      ]
    },
    {
      "cell_type": "code",
      "execution_count": null,
      "metadata": {
        "colab": {
          "base_uri": "https://localhost:8080/"
        },
        "id": "xYlH0dYcthvk",
        "outputId": "870bf4af-6032-4de3-aa64-2f3da60557ef"
      },
      "outputs": [
        {
          "output_type": "execute_result",
          "data": {
            "text/plain": [
              "1.0"
            ]
          },
          "metadata": {},
          "execution_count": 72
        }
      ],
      "source": [
        "TP = cm_rf[1,1]\n",
        "TN = cm_rf[0,0]\n",
        "FP = cm_rf[0,1]\n",
        "FN = cm_rf[1,0]\n",
        "# Let us calculate specificity\n",
        "TN / float(TN+FP)"
      ]
    },
    {
      "cell_type": "code",
      "execution_count": null,
      "metadata": {
        "colab": {
          "base_uri": "https://localhost:8080/",
          "height": 295
        },
        "id": "kggo0Lebt7hG",
        "outputId": "4963c803-c070-4934-ec14-724b03dadc20"
      },
      "outputs": [
        {
          "output_type": "display_data",
          "data": {
            "text/plain": [
              "<Figure size 432x288 with 1 Axes>"
            ],
            "image/png": "[encoded data removed]"
          },
          "metadata": {
            "needs_background": "light"
          }
        }
      ],
      "source": [
        "from sklearn import metrics\n",
        "import matplotlib.pyplot as plt\n",
        "plt.figure()\n",
        "# Add the models to the list that you want to view on the ROC plot\n",
        "models = [\n",
        "{\n",
        "    'label': 'Logistic Regression',\n",
        "    'model': LogisticRegression(random_state = 0, penalty = 'l2'),\n",
        "},\n",
        "\n",
        "    {\n",
        "    'label': 'Random Forest',\n",
        "    'model': RandomForestClassifier(n_estimators = 100,criterion='gini', random_state = 47),\n",
        "},\n",
        "    \n",
        "]\n",
        "# Below for loop iterates through your models list\n",
        "for m in models:\n",
        "    model = m['model'] # select the model\n",
        "    model.fit(X_train, y_train) # train the model\n",
        "    y_pred=model.predict(X_test) # predict the test data\n",
        "# Compute False postive rate, and True positive rate\n",
        "    fpr, tpr, thresholds = metrics.roc_curve(y_test, model.predict_proba(X_test)[:,1])\n",
        "# Calculate Area under the curve to display on the plot\n",
        "    auc = metrics.roc_auc_score(y_test,model.predict(X_test))\n",
        "# Now, plot the computed values\n",
        "    plt.plot(fpr, tpr, label='%s ROC (area = %0.2f)' % (m['label'], auc))\n",
        "# Custom settings for the plot \n",
        "plt.plot([0, 1], [0, 1],'r--')\n",
        "plt.xlim([0.0, 1.0])\n",
        "plt.ylim([0.0, 1.05])\n",
        "plt.xlabel('1-Specificity(False Positive Rate)')\n",
        "plt.ylabel('Sensitivity(True Positive Rate)')\n",
        "plt.title('Receiver Operating Characteristic')\n",
        "plt.legend(loc=\"lower right\")\n",
        "plt.show()\n"
      ]
    },
    {
      "cell_type": "code",
      "execution_count": null,
      "metadata": {
        "colab": {
          "base_uri": "https://localhost:8080/"
        },
        "id": "2DmzC-okvG6R",
        "outputId": "6758dcd2-2f6a-4897-f530-83a66b637099"
      },
      "outputs": [
        {
          "output_type": "execute_result",
          "data": {
            "text/plain": [
              "array([0, 0, 0, 1, 1, 1, 1, 1, 0, 1, 0, 0, 0, 1, 1, 0, 0, 1, 0, 0, 1, 1,\n",
              "       1, 1, 0, 1, 0, 0, 1, 1, 1, 1, 0, 1, 1, 0, 1, 1, 0, 0, 0, 1, 1, 1,\n",
              "       1, 1, 1, 0, 0, 1, 1, 1, 0, 1, 1, 1, 0, 1, 0, 1, 1, 0, 0, 1, 0, 1,\n",
              "       1, 1, 0, 0, 0, 1, 1, 1, 1, 0, 1, 1, 0, 1, 1, 1, 0, 1, 0, 1, 0, 1,\n",
              "       1, 0, 0, 1, 0, 1, 0, 0, 1, 0, 1, 1, 0, 1, 1, 1])"
            ]
          },
          "metadata": {},
          "execution_count": 74
        }
      ],
      "source": [
        "saved_model = pickle.dumps(rf)\n",
        "mymodel=pickle.loads(saved_model)\n",
        "mymodel.predict(X_test)"
      ]
    },
    {
      "cell_type": "code",
      "source": [
        "!pip install joblib"
      ],
      "metadata": {
        "colab": {
          "base_uri": "https://localhost:8080/"
        },
        "id": "UJ_OKqp_1lQC",
        "outputId": "a6505327-d12a-458e-d1c1-142bce2700b2"
      },
      "execution_count": null,
      "outputs": [
        {
          "output_type": "stream",
          "name": "stdout",
          "text": [
            "Looking in indexes: https://pypi.org/simple, https://us-python.pkg.dev/colab-wheels/public/simple/\n",
            "Requirement already satisfied: joblib in /usr/local/lib/python3.7/dist-packages (1.2.0)\n"
          ]
        }
      ]
    },
    {
      "cell_type": "code",
      "execution_count": null,
      "metadata": {
        "colab": {
          "base_uri": "https://localhost:8080/"
        },
        "id": "H5kJTUupvIhG",
        "outputId": "846f283a-3d4c-4397-a165-37253df149fa"
      },
      "outputs": [
        {
          "output_type": "execute_result",
          "data": {
            "text/plain": [
              "array([0, 0, 0, 1, 1, 1, 1, 1, 0, 1, 0, 0, 0, 1, 1, 0, 0, 1, 0, 0, 1, 1,\n",
              "       1, 1, 0, 1, 0, 0, 1, 1, 1, 1, 0, 1, 1, 0, 1, 1, 0, 0, 0, 1, 1, 1,\n",
              "       1, 1, 1, 0, 0, 1, 1, 1, 0, 1, 1, 1, 0, 1, 0, 1, 1, 0, 0, 1, 0, 1,\n",
              "       1, 1, 0, 0, 0, 1, 1, 1, 1, 0, 1, 1, 0, 1, 1, 1, 0, 1, 0, 1, 0, 1,\n",
              "       1, 0, 0, 1, 0, 1, 0, 0, 1, 0, 1, 1, 0, 1, 1, 1])"
            ]
          },
          "metadata": {},
          "execution_count": 76
        }
      ],
      "source": [
        "import joblib\n",
        "joblib.dump(rf, 'filename.pkl')\n",
        "mymodel= joblib.load('filename.pkl')\n",
        "mymodel.predict(X_test)\n",
        "\n",
        "\n",
        "\n"
      ]
    },
    {
      "cell_type": "code",
      "execution_count": null,
      "metadata": {
        "colab": {
          "base_uri": "https://localhost:8080/"
        },
        "id": "FKLGygd614be",
        "outputId": "a0fb961a-1831-49e5-c3c8-25059948da10"
      },
      "outputs": [
        {
          "output_type": "execute_result",
          "data": {
            "text/plain": [
              "array([0, 0, 0, 1, 1, 1, 1, 1, 0, 1, 0, 0, 0, 1, 1, 1, 0, 1, 0, 0, 1, 1,\n",
              "       1, 1, 0, 1, 0, 0, 1, 1, 1, 1, 0, 1, 1, 0, 1, 1, 0, 0, 0, 1, 1, 1,\n",
              "       1, 1, 1, 0, 0, 1, 1, 1, 0, 1, 1, 1, 0, 1, 0, 1, 1, 0, 0, 1, 0, 1,\n",
              "       1, 0, 0, 0, 0, 1, 1, 1, 1, 0, 1, 1, 0, 1, 1, 1, 0, 1, 0, 1, 0, 1,\n",
              "       1, 0, 0, 1, 0, 1, 0, 0, 1, 0, 1, 1, 0, 1, 1, 1])"
            ]
          },
          "metadata": {},
          "execution_count": 77
        }
      ],
      "source": [
        "import joblib\n",
        "joblib.dump(logi, 'filename2.pkl')\n",
        "mymodel= joblib.load('filename2.pkl')\n",
        "mymodel.predict(X_test)\n",
        "\n",
        "\n"
      ]
    },
    {
      "cell_type": "code",
      "execution_count": null,
      "metadata": {
        "colab": {
          "base_uri": "https://localhost:8080/"
        },
        "id": "NkmvuUNBcMcU",
        "outputId": "1c83ad59-716b-48b2-b683-e4cc123dc007"
      },
      "outputs": [
        {
          "output_type": "execute_result",
          "data": {
            "text/plain": [
              "array([0, 0, 0, 1, 1, 1, 1, 1, 0, 1, 0, 0, 0, 1, 1, 0, 0, 1, 0, 0, 1, 1,\n",
              "       1, 1, 0, 1, 0, 0, 1, 1, 1, 1, 0, 1, 1, 0, 1, 1, 0, 0, 0, 1, 1, 1,\n",
              "       1, 1, 1, 0, 0, 1, 1, 1, 0, 1, 1, 1, 0, 1, 0, 1, 1, 0, 0, 1, 0, 1,\n",
              "       1, 1, 0, 0, 0, 1, 1, 1, 1, 0, 1, 1, 0, 1, 1, 1, 0, 1, 0, 1, 0, 1,\n",
              "       1, 0, 0, 1, 0, 1, 0, 0, 1, 0, 1, 1, 0, 1, 1, 1])"
            ]
          },
          "metadata": {},
          "execution_count": 78
        }
      ],
      "source": [
        "joblib.dump(model, 'filename1.pkl')\n",
        "mymodel1= joblib.load('filename1.pkl')\n",
        "mymodel1.predict(X_test)"
      ]
    },
    {
      "cell_type": "code",
      "source": [],
      "metadata": {
        "id": "5YdiWblj1MEm"
      },
      "execution_count": null,
      "outputs": []
    }
  ],
  "metadata": {
    "colab": {
      "provenance": []
    },
    "kernelspec": {
      "display_name": "Python 3",
      "language": "python",
      "name": "python3"
    },
    "language_info": {
      "codemirror_mode": {
        "name": "ipython",
        "version": 3
      },
      "file_extension": ".py",
      "mimetype": "text/x-python",
      "name": "python",
      "nbconvert_exporter": "python",
      "pygments_lexer": "ipython3",
      "version": "3.8.8"
    }
  },
  "nbformat": 4,
  "nbformat_minor": 0
}